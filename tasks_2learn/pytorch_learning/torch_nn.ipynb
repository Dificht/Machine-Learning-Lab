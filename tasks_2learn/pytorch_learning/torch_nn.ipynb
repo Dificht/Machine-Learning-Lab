{
 "cells": [
  {
   "cell_type": "code",
   "execution_count": 36,
   "id": "59db92a5",
   "metadata": {},
   "outputs": [],
   "source": [
    "import torch\n",
    "import torch.nn as nn\n",
    "%matplotlib inline\n",
    "import matplotlib.pyplot as plt\n",
    "import torch.optim as optim"
   ]
  },
  {
   "cell_type": "code",
   "execution_count": null,
   "id": "f8970a77",
   "metadata": {},
   "outputs": [],
   "source": [
    "t_c = [0.5,  14.0, 15.0, 28.0, 11.0,  8.0,  3.0, -4.0,  6.0, 13.0, 21.0]\n",
    "t_u = [35.7, 55.9, 58.2, 81.9, 56.3, 48.9, 33.9, 21.8, 48.4, 60.4, 68.4]\n",
    "\n",
    "t_c = torch.tensor(t_c).unsqueeze(1)\n",
    "t_u = torch.tensor(t_u).unsqueeze(1)"
   ]
  },
  {
   "cell_type": "code",
   "execution_count": 38,
   "id": "d979672e",
   "metadata": {},
   "outputs": [
    {
     "data": {
      "text/plain": [
       "(tensor([ 4,  5,  8,  1,  3,  0,  7, 10,  2]), tensor([9, 6]))"
      ]
     },
     "execution_count": 38,
     "metadata": {},
     "output_type": "execute_result"
    }
   ],
   "source": [
    "t_un = t_u * 0.1\n",
    "\n",
    "n_samples = t_u.shape[0]\n",
    "rand_samples = torch.randperm(n_samples)\n",
    "\n",
    "n_val_samples = int(0.2 * n_samples)\n",
    "\n",
    "train_ind = rand_samples[:-n_val_samples]\n",
    "val_ind = rand_samples[-n_val_samples:]\n",
    "\n",
    "train_ind, val_ind"
   ]
  },
  {
   "cell_type": "code",
   "execution_count": 39,
   "id": "44a4b501",
   "metadata": {},
   "outputs": [
    {
     "data": {
      "text/plain": [
       "(tensor([[11.0000],\n",
       "         [ 8.0000],\n",
       "         [ 6.0000],\n",
       "         [14.0000],\n",
       "         [28.0000],\n",
       "         [ 0.5000],\n",
       "         [-4.0000],\n",
       "         [21.0000],\n",
       "         [15.0000]]),\n",
       " tensor([[6.0400],\n",
       "         [3.3900]]))"
      ]
     },
     "execution_count": 39,
     "metadata": {},
     "output_type": "execute_result"
    }
   ],
   "source": [
    "t_un_train = t_un[train_ind]\n",
    "t_c_train = t_c[train_ind]\n",
    "\n",
    "t_un_val = t_un[val_ind]\n",
    "t_c_val = t_c[val_ind]\n",
    "\n",
    "t_c_train, t_un_val"
   ]
  },
  {
   "cell_type": "code",
   "execution_count": 57,
   "id": "b3078b48",
   "metadata": {},
   "outputs": [
    {
     "data": {
      "text/plain": [
       "(Sequential(\n",
       "   (0): Linear(in_features=1, out_features=128, bias=True)\n",
       "   (1): Tanh()\n",
       "   (2): Linear(in_features=128, out_features=128, bias=True)\n",
       "   (3): Tanh()\n",
       "   (4): Linear(in_features=128, out_features=128, bias=True)\n",
       "   (5): Tanh()\n",
       "   (6): Linear(in_features=128, out_features=1, bias=True)\n",
       " ),\n",
       " [torch.Size([128, 1]),\n",
       "  torch.Size([128]),\n",
       "  torch.Size([128, 128]),\n",
       "  torch.Size([128]),\n",
       "  torch.Size([128, 128]),\n",
       "  torch.Size([128]),\n",
       "  torch.Size([1, 128]),\n",
       "  torch.Size([1])])"
      ]
     },
     "execution_count": 57,
     "metadata": {},
     "output_type": "execute_result"
    }
   ],
   "source": [
    "seq_model = nn.Sequential(\n",
    "    nn.Linear(1, 128),\n",
    "    nn.Tanh(),\n",
    "    nn.Linear(128, 128),\n",
    "    nn.Tanh(),\n",
    "    nn.Linear(128, 128),\n",
    "    nn.Tanh(),\n",
    "    nn.Linear(128, 1)\n",
    ")\n",
    "seq_model, [param.shape for param in seq_model.parameters()]"
   ]
  },
  {
   "cell_type": "code",
   "execution_count": 50,
   "id": "386b90f7",
   "metadata": {},
   "outputs": [],
   "source": [
    "def training_loop(n_epochs, optimizer, model, loss_fn, t_u_train, t_u_val, t_c_train, t_c_val):\n",
    "    for epoch in range(1, n_epochs + 1):\n",
    "        t_p_train = model(t_u_train)\n",
    "        loss_train = loss_fn(t_p_train, t_c_train)\n",
    "\n",
    "        with torch.no_grad():\n",
    "            t_p_val = model(t_u_val)\n",
    "            loss_val = loss_fn(t_p_val, t_c_val)\n",
    "            assert loss_val.requires_grad == False\n",
    "        \n",
    "        optimizer.zero_grad()\n",
    "        loss_train.backward()\n",
    "        optimizer.step()\n",
    "\n",
    "        if epoch % 500 == 0:\n",
    "            print(f\"Epoch {epoch}, Train loss {loss_train.item():.4f}, Val loss {loss_val.item():.4f}\")\n",
    "            \n",
    "    return list(model.parameters())"
   ]
  },
  {
   "cell_type": "code",
   "execution_count": 58,
   "id": "b78621bf",
   "metadata": {},
   "outputs": [],
   "source": [
    "optimizer = optim.Adam(seq_model.parameters(), lr=1e-4)"
   ]
  },
  {
   "cell_type": "code",
   "execution_count": 60,
   "id": "5c3ac7e8",
   "metadata": {},
   "outputs": [
    {
     "name": "stdout",
     "output_type": "stream",
     "text": [
      "Epoch 500, Train loss 0.5126, Val loss 12.3930\n",
      "Epoch 1000, Train loss 0.5073, Val loss 11.4190\n",
      "Epoch 1500, Train loss 0.5046, Val loss 10.8232\n",
      "Epoch 2000, Train loss 0.5032, Val loss 10.5113\n",
      "Epoch 2500, Train loss 0.5023, Val loss 10.3421\n",
      "Epoch 3000, Train loss 0.5029, Val loss 10.2252\n",
      "Epoch 3500, Train loss 0.5013, Val loss 10.0791\n",
      "Epoch 4000, Train loss 0.5011, Val loss 9.9804\n",
      "Epoch 4500, Train loss 0.5030, Val loss 9.9262\n",
      "Epoch 5000, Train loss 0.5007, Val loss 9.8707\n",
      "Epoch 5500, Train loss 0.4997, Val loss 9.7012\n",
      "Epoch 6000, Train loss 0.3684, Val loss 6.6054\n",
      "Epoch 6500, Train loss 0.2114, Val loss 6.4167\n",
      "Epoch 7000, Train loss 0.0791, Val loss 6.2772\n",
      "Epoch 7500, Train loss 0.0189, Val loss 5.9992\n",
      "Epoch 8000, Train loss 0.0026, Val loss 5.6517\n",
      "Epoch 8500, Train loss 0.0001, Val loss 5.4395\n",
      "Epoch 9000, Train loss 0.0000, Val loss 5.4541\n",
      "Epoch 9500, Train loss 0.0000, Val loss 5.4554\n",
      "Epoch 10000, Train loss 0.0000, Val loss 5.4431\n"
     ]
    },
    {
     "data": {
      "text/plain": [
       "[Parameter containing:\n",
       " tensor([[ 1.0052],\n",
       "         [-0.1325],\n",
       "         [-0.1670],\n",
       "         [-0.0929],\n",
       "         [ 0.3787],\n",
       "         [-0.1425],\n",
       "         [ 0.7347],\n",
       "         [ 1.0140],\n",
       "         [-0.7721],\n",
       "         [ 0.8217],\n",
       "         [-0.5284],\n",
       "         [-0.9299],\n",
       "         [ 0.8800],\n",
       "         [ 0.7577],\n",
       "         [ 0.2177],\n",
       "         [ 0.7305],\n",
       "         [-0.7991],\n",
       "         [ 0.8792],\n",
       "         [-0.6186],\n",
       "         [-1.0012],\n",
       "         [ 0.1224],\n",
       "         [-0.2437],\n",
       "         [ 0.4334],\n",
       "         [-1.0022],\n",
       "         [ 0.8802],\n",
       "         [-0.7642],\n",
       "         [-0.2116],\n",
       "         [-0.9460],\n",
       "         [-0.1370],\n",
       "         [ 0.2197],\n",
       "         [-0.2704],\n",
       "         [-0.2032],\n",
       "         [-0.9269],\n",
       "         [ 0.6181],\n",
       "         [-0.3155],\n",
       "         [ 0.1432],\n",
       "         [ 0.2165],\n",
       "         [-0.1148],\n",
       "         [-0.5221],\n",
       "         [-0.1338],\n",
       "         [ 0.9162],\n",
       "         [-0.1885],\n",
       "         [-0.1373],\n",
       "         [ 0.8349],\n",
       "         [-0.9753],\n",
       "         [-0.6798],\n",
       "         [-0.2824],\n",
       "         [ 0.1893],\n",
       "         [ 0.1059],\n",
       "         [-0.7442],\n",
       "         [ 0.2351],\n",
       "         [ 0.9520],\n",
       "         [ 0.7576],\n",
       "         [-0.4714],\n",
       "         [ 0.1060],\n",
       "         [ 0.5345],\n",
       "         [-0.9690],\n",
       "         [ 0.1063],\n",
       "         [-0.7565],\n",
       "         [-0.7722],\n",
       "         [-0.8759],\n",
       "         [ 0.6823],\n",
       "         [-0.6249],\n",
       "         [ 0.2263],\n",
       "         [-0.6419],\n",
       "         [ 0.1377],\n",
       "         [-0.6582],\n",
       "         [-0.8880],\n",
       "         [ 0.2079],\n",
       "         [-0.1097],\n",
       "         [-0.1472],\n",
       "         [-0.1410],\n",
       "         [ 0.1450],\n",
       "         [ 0.2251],\n",
       "         [-0.2369],\n",
       "         [ 0.2321],\n",
       "         [-0.9631],\n",
       "         [ 0.5490],\n",
       "         [-0.2557],\n",
       "         [-0.1364],\n",
       "         [-0.8458],\n",
       "         [ 0.8000],\n",
       "         [-0.8255],\n",
       "         [-0.8298],\n",
       "         [-0.1041],\n",
       "         [ 0.1745],\n",
       "         [-0.8630],\n",
       "         [ 0.5541],\n",
       "         [-0.8501],\n",
       "         [ 0.6023],\n",
       "         [ 0.8796],\n",
       "         [-0.2331],\n",
       "         [-0.2194],\n",
       "         [ 0.3752],\n",
       "         [-0.7369],\n",
       "         [-0.0880],\n",
       "         [-0.1530],\n",
       "         [-1.0407],\n",
       "         [-0.2803],\n",
       "         [ 0.2134],\n",
       "         [ 0.1635],\n",
       "         [-0.1573],\n",
       "         [ 0.9446],\n",
       "         [-0.8442],\n",
       "         [ 0.2804],\n",
       "         [-0.7300],\n",
       "         [ 0.6805],\n",
       "         [-0.5456],\n",
       "         [ 0.4111],\n",
       "         [-1.0569],\n",
       "         [-1.0671],\n",
       "         [-0.8767],\n",
       "         [-1.0489],\n",
       "         [-0.7195],\n",
       "         [-0.4632],\n",
       "         [ 0.5876],\n",
       "         [ 0.3605],\n",
       "         [ 0.1486],\n",
       "         [-0.4677],\n",
       "         [ 0.7270],\n",
       "         [-0.6418],\n",
       "         [ 0.8062],\n",
       "         [-0.9579],\n",
       "         [-0.2400],\n",
       "         [-0.9585],\n",
       "         [-0.8187],\n",
       "         [ 0.2450],\n",
       "         [-0.5970]], requires_grad=True),\n",
       " Parameter containing:\n",
       " tensor([-0.4375,  0.2578,  0.5557, -0.3108,  0.8099,  0.3615,  0.5522,  0.1012,\n",
       "         -0.7916, -0.6611, -0.5702, -0.4139, -0.9389,  0.6134, -0.9821,  0.9514,\n",
       "          0.7113, -0.0457,  0.1517,  0.2361, -0.1587,  1.0214,  1.0108, -0.5690,\n",
       "          0.7736, -0.1479,  0.9436, -0.5673,  0.3166, -1.0039,  1.0590, -0.7662,\n",
       "         -0.8202,  0.9322,  1.1380, -0.3584, -0.9822, -1.0582, -0.9462, -0.8399,\n",
       "          0.4647,  0.6825,  0.3213,  0.5807, -0.6687,  0.9147,  1.2196, -0.5990,\n",
       "          0.2448,  0.4563, -1.1167,  0.2819, -0.0392,  0.9141,  0.1180,  0.4329,\n",
       "         -0.5614,  0.0856,  0.2601, -0.3855,  0.9331, -0.0276,  0.9991,  0.5968,\n",
       "         -0.9660, -0.3466, -0.4034, -0.9591, -0.9168, -0.0184,  0.3940,  0.1411,\n",
       "         -0.4036, -1.0325,  0.5132, -0.2810, -0.5699,  0.0054,  0.7490,  0.2969,\n",
       "         -0.1133, -0.7091,  0.0044, -0.3760, -0.1806, -0.3917,  0.1515,  0.1046,\n",
       "         -0.4188,  0.8370, -0.4527,  1.0871,  0.5749, -0.3224, -0.5364, -0.6016,\n",
       "          0.4317,  0.2985, -0.9946, -0.9724, -0.3135,  0.5031, -0.7994,  0.9906,\n",
       "         -0.8761,  0.0460,  0.4343, -0.1009,  0.9432, -0.4707,  0.8368, -0.9773,\n",
       "          0.5686, -0.9033, -0.1631,  0.8573, -0.9573,  0.3127, -0.1537,  0.1491,\n",
       "         -0.9648,  0.0522,  0.7834,  1.1385,  0.5860,  0.7792, -1.1595, -0.3238],\n",
       "        requires_grad=True),\n",
       " Parameter containing:\n",
       " tensor([[ 0.0330, -0.1999, -0.1585,  ...,  0.0184,  0.3691, -0.0210],\n",
       "         [-0.0921,  0.0546, -0.0452,  ...,  0.0787, -0.0913,  0.0907],\n",
       "         [ 0.0434,  0.1117,  0.2209,  ...,  0.0390, -0.2772,  0.0199],\n",
       "         ...,\n",
       "         [ 0.1066,  0.2216,  0.2149,  ...,  0.0464, -0.4099, -0.0898],\n",
       "         [ 0.1015, -0.0843, -0.0133,  ..., -0.0274,  0.0315, -0.0290],\n",
       "         [ 0.0579,  0.1094,  0.0885,  ...,  0.0684, -0.1250,  0.0662]],\n",
       "        requires_grad=True),\n",
       " Parameter containing:\n",
       " tensor([-2.9564e-02, -7.6636e-02,  7.9984e-02, -4.5407e-02,  4.2063e-02,\n",
       "         -2.2386e-02, -3.4802e-02,  4.7325e-03,  4.8579e-02,  6.3412e-02,\n",
       "         -5.0231e-02, -4.7033e-02,  4.7140e-02,  2.0921e-02,  8.1261e-03,\n",
       "         -1.2620e-01, -8.3061e-02,  1.2176e-01, -8.7188e-02, -7.7185e-02,\n",
       "         -2.6674e-02,  4.7451e-02,  4.3014e-02,  5.2512e-03, -2.7226e-03,\n",
       "         -1.7675e-02,  7.1904e-02, -3.4863e-02, -3.7358e-02, -4.1088e-02,\n",
       "          1.9699e-02,  1.2963e-02, -2.4081e-02,  1.0906e-01, -4.7326e-02,\n",
       "         -1.6072e-02, -6.6661e-03,  4.9553e-03, -1.0617e-01,  7.4333e-02,\n",
       "          1.0017e-02, -6.8915e-02, -1.0477e-01, -1.1299e-02, -5.4217e-02,\n",
       "          3.4639e-03, -6.6447e-02,  1.0902e-01,  9.1456e-02,  3.2816e-02,\n",
       "          8.7397e-02,  1.3270e-02, -5.4949e-02,  5.9110e-02,  3.3526e-02,\n",
       "          5.4818e-02,  3.6898e-02, -1.5544e-02, -9.6195e-02,  5.4955e-03,\n",
       "         -1.2193e-02, -3.0875e-02, -1.6189e-02, -8.0473e-02, -9.6986e-02,\n",
       "         -9.9235e-02, -5.4461e-02, -6.0576e-02, -1.5182e-02,  4.7645e-02,\n",
       "         -2.1842e-02,  3.7002e-02,  1.6116e-02,  5.0229e-02,  1.9765e-02,\n",
       "          3.5331e-02,  9.9174e-02, -4.6377e-02,  1.2766e-01, -7.0197e-02,\n",
       "         -4.6240e-02,  9.9976e-02, -1.4004e-03, -5.7721e-02, -1.5230e-02,\n",
       "          2.4782e-03,  9.6796e-02,  2.8840e-02,  4.6542e-02,  6.2143e-02,\n",
       "          5.0738e-05,  5.8423e-02, -7.0101e-03,  1.3093e-02,  5.2435e-02,\n",
       "         -1.3733e-02, -2.9507e-02, -4.6327e-02,  9.6735e-02,  6.1410e-02,\n",
       "          6.0621e-02,  6.0797e-02,  6.3693e-02, -8.4508e-02, -4.4501e-02,\n",
       "         -6.1909e-02, -5.3436e-02,  2.1768e-02, -8.3753e-02,  2.2173e-02,\n",
       "          6.7656e-02, -3.5973e-02,  1.2225e-01, -6.1145e-03,  5.0061e-02,\n",
       "         -5.7430e-02,  8.0313e-02, -4.6278e-02, -6.1278e-02,  6.8807e-02,\n",
       "          5.0985e-04, -7.1103e-02, -6.6613e-02, -4.5234e-03,  6.5762e-02,\n",
       "          8.0795e-02, -7.1476e-02, -8.5484e-02], requires_grad=True),\n",
       " Parameter containing:\n",
       " tensor([[ 0.0772,  0.0761, -0.0792,  ..., -0.1340, -0.1913, -0.0094],\n",
       "         [-0.0211, -0.0582, -0.0343,  ...,  0.0710,  0.1087, -0.1400],\n",
       "         [ 0.2419, -0.1356, -0.1338,  ..., -0.2553,  0.1062, -0.0514],\n",
       "         ...,\n",
       "         [-0.0540, -0.1775,  0.0074,  ..., -0.0640,  0.0499, -0.0608],\n",
       "         [-0.1056, -0.0834,  0.0047,  ...,  0.0909,  0.0616, -0.0039],\n",
       "         [ 0.0025,  0.0964, -0.0465,  ..., -0.0341, -0.1545,  0.1465]],\n",
       "        requires_grad=True),\n",
       " Parameter containing:\n",
       " tensor([-0.0671,  0.0632,  0.0759,  0.0426, -0.0252,  0.1137, -0.0106,  0.0171,\n",
       "          0.1332,  0.0161,  0.0992, -0.1245,  0.0401, -0.0661,  0.0353,  0.1203,\n",
       "          0.0183,  0.0314, -0.0869,  0.0219, -0.1609,  0.0843, -0.0907, -0.1256,\n",
       "          0.1106, -0.1275,  0.0674, -0.0479,  0.1177, -0.0950,  0.0452,  0.0295,\n",
       "         -0.0565,  0.1126, -0.0999,  0.1052,  0.0116, -0.0072,  0.0753,  0.1221,\n",
       "         -0.0323,  0.0173, -0.0366, -0.0058, -0.0166, -0.0364,  0.1364,  0.0051,\n",
       "         -0.0014,  0.0107,  0.1087, -0.0943, -0.1857,  0.0548,  0.0294,  0.0223,\n",
       "          0.1185,  0.0088, -0.0706, -0.1872,  0.0448,  0.0294, -0.1171, -0.1104,\n",
       "          0.1182, -0.0015,  0.0066,  0.0139,  0.1027, -0.0318,  0.0327, -0.1187,\n",
       "         -0.0181, -0.0215, -0.0070, -0.0517, -0.0089,  0.0608,  0.0273, -0.0211,\n",
       "         -0.1379, -0.0059, -0.0808, -0.0760, -0.0494, -0.1180, -0.0369, -0.0281,\n",
       "          0.0186, -0.0621, -0.0147, -0.1085,  0.0263,  0.0636, -0.0375,  0.0650,\n",
       "         -0.0225, -0.0512,  0.0167,  0.0350,  0.0474, -0.0125,  0.0450, -0.1178,\n",
       "         -0.0194, -0.0024, -0.1263, -0.0113, -0.0358, -0.0991,  0.0241, -0.0029,\n",
       "         -0.0151, -0.1160,  0.1216, -0.0659, -0.0358, -0.0067,  0.1328,  0.0596,\n",
       "          0.0092, -0.1053, -0.0829,  0.0162, -0.0046, -0.0371,  0.0751, -0.0522],\n",
       "        requires_grad=True),\n",
       " Parameter containing:\n",
       " tensor([[ 0.2581,  0.2363,  0.3271,  0.3212,  0.2525,  0.3285,  0.2421,  0.2493,\n",
       "           0.2651, -0.2550,  0.3206, -0.3400, -0.2608, -0.3230,  0.2531, -0.3647,\n",
       "          -0.2987, -0.2746,  0.2519,  0.2799,  0.2699,  0.3051, -0.2703,  0.4116,\n",
       "          -0.3798, -0.3076,  0.2976, -0.2725,  0.2595, -0.5550,  0.2679, -0.2708,\n",
       "           0.2423,  0.3224,  0.2530, -0.2469,  0.5940,  0.3007, -0.2610,  0.2408,\n",
       "          -0.2365, -0.2475,  0.2500,  0.3129,  0.2773,  0.2428, -0.4451,  0.2727,\n",
       "           0.2780, -0.2635, -0.2459, -0.2958,  0.2485,  0.3180, -0.4075, -0.2895,\n",
       "           0.2520,  0.2464, -0.2543,  0.2605,  0.3182, -0.2868,  0.2491,  0.2571,\n",
       "          -0.2546,  0.2794, -0.2898,  0.2502, -0.2625,  0.5067,  0.2254,  0.2591,\n",
       "           0.2472, -0.4586, -0.2389,  0.4400,  0.3189,  0.2451,  0.2519, -0.3462,\n",
       "          -0.3240,  0.3117, -0.2468, -0.2383,  0.2722, -0.2744,  0.2359,  0.2544,\n",
       "           0.2719, -0.2859,  0.2213,  0.2476, -0.2854,  0.2419, -0.3223,  0.3320,\n",
       "           0.2493,  0.2333, -0.3256,  0.2635, -0.2459,  0.2850, -0.5732, -0.3168,\n",
       "          -0.2538, -0.2801,  0.2527, -0.3327, -0.3276,  0.2598, -0.2619, -0.3148,\n",
       "           0.6152, -0.2820,  0.2865, -0.2838, -0.2538,  0.2736, -0.2490,  0.2654,\n",
       "           0.3403, -0.2738, -0.2772,  0.2579, -0.3240,  0.2261, -0.2936, -0.2364]],\n",
       "        requires_grad=True),\n",
       " Parameter containing:\n",
       " tensor([0.1496], requires_grad=True)]"
      ]
     },
     "execution_count": 60,
     "metadata": {},
     "output_type": "execute_result"
    }
   ],
   "source": [
    "training_loop(\n",
    "    n_epochs=10000,\n",
    "    optimizer=optimizer,\n",
    "    model=seq_model,\n",
    "    loss_fn=nn.MSELoss(),\n",
    "    t_u_train=t_un_train,\n",
    "    t_u_val=t_un_val,\n",
    "    t_c_train=t_c_train,\n",
    "    t_c_val=t_c_val\n",
    ")"
   ]
  },
  {
   "cell_type": "code",
   "execution_count": 61,
   "id": "ba1e3065",
   "metadata": {},
   "outputs": [
    {
     "data": {
      "text/plain": [
       "[<matplotlib.lines.Line2D at 0x1b69fe10590>]"
      ]
     },
     "execution_count": 61,
     "metadata": {},
     "output_type": "execute_result"
    },
    {
     "data": {
      "image/png": "[encoded data removed]",
      "text/plain": [
       "<Figure size 640x480 with 1 Axes>"
      ]
     },
     "metadata": {},
     "output_type": "display_data"
    }
   ],
   "source": [
    "t_range = torch.arange(20., 90.).unsqueeze(1)\n",
    "\n",
    "fig = plt.figure(dpi=100)\n",
    "plt.xlabel(\"Fahrenheit\")\n",
    "plt.ylabel(\"Celsius\")\n",
    "plt.plot(t_u.numpy(), t_c.numpy(), 'o')\n",
    "plt.plot(t_range.numpy(), seq_model(0.1 * t_range).detach().numpy(), 'c-')\n",
    "plt.plot(t_u.numpy(), seq_model(0.1 * t_u).detach().numpy(), 'kx')"
   ]
  },
  {
   "cell_type": "code",
   "execution_count": 63,
   "id": "6f38c92f",
   "metadata": {},
   "outputs": [
    {
     "data": {
      "text/plain": [
       "array([[ 7.  ,  0.27,  0.36, ...,  0.45,  8.8 ,  6.  ],\n",
       "       [ 6.3 ,  0.3 ,  0.34, ...,  0.49,  9.5 ,  6.  ],\n",
       "       [ 8.1 ,  0.28,  0.4 , ...,  0.44, 10.1 ,  6.  ],\n",
       "       ...,\n",
       "       [ 6.5 ,  0.24,  0.19, ...,  0.46,  9.4 ,  6.  ],\n",
       "       [ 5.5 ,  0.29,  0.3 , ...,  0.38, 12.8 ,  7.  ],\n",
       "       [ 6.  ,  0.21,  0.38, ...,  0.32, 11.8 ,  6.  ]],\n",
       "      shape=(4898, 12), dtype=float32)"
      ]
     },
     "execution_count": 63,
     "metadata": {},
     "output_type": "execute_result"
    }
   ],
   "source": [
    "import csv\n",
    "import numpy as np\n",
    "wine_path = \"winequality-white.csv\"\n",
    "wineq_numpy = np.loadtxt(wine_path, dtype=np.float32, delimiter=\";\",\n",
    "                         skiprows=1)\n",
    "wineq_numpy"
   ]
  },
  {
   "cell_type": "code",
   "execution_count": 64,
   "id": "753d9a97",
   "metadata": {},
   "outputs": [
    {
     "data": {
      "text/plain": [
       "(torch.Size([4898, 12]), torch.float32)"
      ]
     },
     "execution_count": 64,
     "metadata": {},
     "output_type": "execute_result"
    }
   ],
   "source": [
    "wineq = torch.from_numpy(wineq_numpy)\n",
    "wineq.shape, wineq.dtype"
   ]
  },
  {
   "cell_type": "code",
   "execution_count": 116,
   "id": "60abda67",
   "metadata": {},
   "outputs": [
    {
     "data": {
      "text/plain": [
       "(tensor([[ 7.0000,  0.2700,  0.3600,  ...,  3.0000,  0.4500,  8.8000],\n",
       "         [ 6.3000,  0.3000,  0.3400,  ...,  3.3000,  0.4900,  9.5000],\n",
       "         [ 8.1000,  0.2800,  0.4000,  ...,  3.2600,  0.4400, 10.1000],\n",
       "         ...,\n",
       "         [ 6.5000,  0.2400,  0.1900,  ...,  2.9900,  0.4600,  9.4000],\n",
       "         [ 5.5000,  0.2900,  0.3000,  ...,  3.3400,  0.3800, 12.8000],\n",
       "         [ 6.0000,  0.2100,  0.3800,  ...,  3.2600,  0.3200, 11.8000]]),\n",
       " torch.Size([4898, 11]),\n",
       " tensor([[6.],\n",
       "         [6.],\n",
       "         [6.],\n",
       "         ...,\n",
       "         [6.],\n",
       "         [7.],\n",
       "         [6.]]),\n",
       " torch.Size([4898, 1]))"
      ]
     },
     "execution_count": 116,
     "metadata": {},
     "output_type": "execute_result"
    }
   ],
   "source": [
    "data = wineq[:, :-1]\n",
    "target = wineq[:, -1].unsqueeze(1)\n",
    "data, data.shape, target, target.shape"
   ]
  },
  {
   "cell_type": "code",
   "execution_count": 117,
   "id": "63184e3e",
   "metadata": {},
   "outputs": [],
   "source": [
    "n_samples_wine = data.shape[0]\n",
    "rand_samples_wine = torch.randperm(n_samples_wine)\n",
    "\n",
    "n_val_samples_wine = int(0.2 * n_samples_wine)\n",
    "\n",
    "train_ind_wine = rand_samples_wine[:-n_val_samples_wine]\n",
    "val_ind_wine = rand_samples_wine[-n_val_samples_wine:]\n",
    "\n",
    "# train_ind_wine, val_ind_wine"
   ]
  },
  {
   "cell_type": "code",
   "execution_count": 118,
   "id": "91fcc742",
   "metadata": {},
   "outputs": [
    {
     "data": {
      "text/plain": [
       "(torch.Size([3919, 11]), torch.Size([979, 1]))"
      ]
     },
     "execution_count": 118,
     "metadata": {},
     "output_type": "execute_result"
    }
   ],
   "source": [
    "target_train = target[train_ind_wine]\n",
    "data_train = data[train_ind_wine]\n",
    "\n",
    "target_val = target[val_ind_wine]\n",
    "data_val = data[val_ind_wine]\n",
    "\n",
    "data_train.shape, target_val.shape"
   ]
  },
  {
   "cell_type": "code",
   "execution_count": 129,
   "id": "a45f8fa4",
   "metadata": {},
   "outputs": [
    {
     "data": {
      "text/plain": [
       "(Sequential(\n",
       "   (0): Linear(in_features=1, out_features=128, bias=True)\n",
       "   (1): Tanh()\n",
       "   (2): Linear(in_features=128, out_features=128, bias=True)\n",
       "   (3): Tanh()\n",
       "   (4): Linear(in_features=128, out_features=128, bias=True)\n",
       "   (5): Tanh()\n",
       "   (6): Linear(in_features=128, out_features=1, bias=True)\n",
       " ),\n",
       " [torch.Size([128, 11]),\n",
       "  torch.Size([128]),\n",
       "  torch.Size([256, 128]),\n",
       "  torch.Size([256]),\n",
       "  torch.Size([128, 256]),\n",
       "  torch.Size([128]),\n",
       "  torch.Size([1, 128]),\n",
       "  torch.Size([1])])"
      ]
     },
     "execution_count": 129,
     "metadata": {},
     "output_type": "execute_result"
    }
   ],
   "source": [
    "seq_model_wine = nn.Sequential(\n",
    "    nn.Linear(11, 128),\n",
    "    nn.Tanh(),\n",
    "    nn.Linear(128, 256),\n",
    "    nn.Tanh(),\n",
    "    nn.Linear(256, 128),\n",
    "    nn.Tanh(),\n",
    "    nn.Linear(128, 1)\n",
    ")\n",
    "seq_model, [param.shape for param in seq_model_wine.parameters()]"
   ]
  },
  {
   "cell_type": "code",
   "execution_count": 130,
   "id": "f32ac2ff",
   "metadata": {},
   "outputs": [],
   "source": [
    "optimizer_wine = optim.Adam(seq_model_wine.parameters(), lr=1e-4)"
   ]
  },
  {
   "cell_type": "code",
   "execution_count": 132,
   "id": "84adc057",
   "metadata": {},
   "outputs": [
    {
     "name": "stdout",
     "output_type": "stream",
     "text": [
      "Epoch 500, Train loss 0.7305, Val loss 0.7179\n",
      "Epoch 1000, Train loss 0.6342, Val loss 0.6362\n",
      "Epoch 1500, Train loss 0.5704, Val loss 0.5788\n",
      "Epoch 2000, Train loss 0.5291, Val loss 0.5364\n",
      "Epoch 2500, Train loss 0.5085, Val loss 0.5235\n",
      "Epoch 3000, Train loss 0.4942, Val loss 0.5194\n",
      "Epoch 3500, Train loss 0.4812, Val loss 0.5184\n",
      "Epoch 4000, Train loss 0.4690, Val loss 0.5183\n",
      "Epoch 4500, Train loss 0.4577, Val loss 0.5218\n",
      "Epoch 5000, Train loss 0.4474, Val loss 0.5223\n"
     ]
    },
    {
     "data": {
      "text/plain": [
       "[Parameter containing:\n",
       " tensor([[ 0.3956,  0.3917, -0.1342,  ...,  0.1949, -0.0321,  0.0986],\n",
       "         [-0.0819, -0.5104, -0.4599,  ..., -0.2714,  0.6621,  0.1516],\n",
       "         [ 0.2914,  0.0718, -0.0619,  ..., -0.1045,  0.3173,  0.1502],\n",
       "         ...,\n",
       "         [-0.0226, -0.1495, -0.1326,  ...,  0.1454,  0.0948, -0.0770],\n",
       "         [ 0.1538, -0.2408, -0.1975,  ..., -0.0924,  0.1342,  0.1660],\n",
       "         [-0.1944, -0.1525,  0.7773,  ..., -0.0720,  0.7634, -0.0425]],\n",
       "        requires_grad=True),\n",
       " Parameter containing:\n",
       " tensor([ 0.2863, -0.1758, -0.0479, -0.2116, -0.3251, -0.0241,  0.2530, -0.1175,\n",
       "         -0.2048, -0.2662, -0.6235, -0.1662,  0.1286, -0.5121,  0.0831,  0.2516,\n",
       "          0.0514,  0.0701,  0.0280, -0.2111, -0.0742, -0.1367, -0.0208,  0.0597,\n",
       "         -0.4194,  0.2143,  0.1780, -0.0850, -0.1720,  0.4468,  0.2342,  0.3879,\n",
       "          0.2322,  0.4405,  0.0446, -0.0474, -0.6015,  0.1556,  0.4244, -0.1251,\n",
       "         -0.0286,  0.0162,  0.1175, -0.0319, -0.2555,  0.4918, -0.4954,  0.1502,\n",
       "          0.0888,  0.0612, -0.2649, -0.0097,  0.4488,  0.0622, -0.3670, -0.2945,\n",
       "         -0.1587,  0.0227,  0.0038,  0.1658,  0.2351,  0.1999, -0.0811, -0.1194,\n",
       "          0.2152,  0.1357,  0.1829,  0.1908,  0.1636, -0.0951,  0.1260, -0.3890,\n",
       "         -0.2996, -0.1632,  0.1807,  0.5557,  0.1323, -0.1772,  0.3295, -0.1556,\n",
       "         -0.1817,  0.0045,  0.6209,  0.1154,  0.1396, -0.2033,  0.0784, -0.4669,\n",
       "          0.2296, -0.2147,  0.0596, -0.2643,  0.2397,  0.3080, -0.4803,  0.1798,\n",
       "         -0.1548, -0.0843,  0.1192,  0.1433, -0.3793, -0.1431,  0.0746,  0.3095,\n",
       "         -0.5074,  0.2687,  0.0950, -0.6289,  0.0854, -0.1900, -0.1007, -0.0948,\n",
       "          0.3071, -0.1761,  0.1242,  0.3201, -0.2605, -0.1697,  0.1063, -0.0812,\n",
       "          0.0526, -0.0451,  0.2264,  0.1254, -0.4695,  0.1261, -0.2355,  0.0175],\n",
       "        requires_grad=True),\n",
       " Parameter containing:\n",
       " tensor([[ 0.0476,  0.0401, -0.0520,  ...,  0.0306, -0.0118, -0.0593],\n",
       "         [ 0.0523, -0.0454,  0.0571,  ..., -0.0657,  0.0871, -0.1113],\n",
       "         [ 0.0474, -0.0802, -0.0433,  ...,  0.0417,  0.0186,  0.0291],\n",
       "         ...,\n",
       "         [ 0.0685,  0.0282,  0.0800,  ..., -0.0455,  0.0330,  0.0878],\n",
       "         [-0.0523, -0.0155, -0.0615,  ...,  0.0268,  0.0153, -0.0183],\n",
       "         [-0.0692,  0.0141,  0.0721,  ..., -0.0372, -0.0121,  0.0230]],\n",
       "        requires_grad=True),\n",
       " Parameter containing:\n",
       " tensor([-0.0070, -0.0365,  0.0687,  0.0907,  0.0805,  0.0390,  0.0807, -0.0710,\n",
       "          0.0238,  0.0488,  0.0329,  0.0608, -0.0305, -0.0388,  0.0088,  0.0092,\n",
       "          0.0583, -0.0494,  0.0286,  0.0599, -0.0806, -0.0908, -0.0416,  0.0430,\n",
       "         -0.0880,  0.0057,  0.0329, -0.0182, -0.0739,  0.0819,  0.0647, -0.0641,\n",
       "         -0.0043,  0.0634, -0.0466,  0.0505,  0.0488, -0.0671, -0.0237, -0.0394,\n",
       "         -0.0153,  0.0540,  0.0503, -0.0455, -0.0702, -0.0416,  0.0343, -0.0492,\n",
       "          0.0763, -0.0763,  0.0808, -0.0391, -0.0315, -0.0691,  0.0448, -0.0445,\n",
       "         -0.0181,  0.0735,  0.0377,  0.0012,  0.0080,  0.0259,  0.0918, -0.0379,\n",
       "         -0.0864,  0.0027,  0.0313, -0.0436,  0.0472, -0.0441, -0.0297, -0.0370,\n",
       "         -0.0140,  0.0143, -0.0560,  0.0655, -0.0685,  0.0037, -0.0195,  0.0218,\n",
       "          0.0763, -0.0876,  0.0392, -0.0035,  0.0151,  0.0451, -0.0792,  0.0744,\n",
       "         -0.0550,  0.0538, -0.0828,  0.0102,  0.0783, -0.0064,  0.0087,  0.0204,\n",
       "          0.0608, -0.0808, -0.0887, -0.0809, -0.0333,  0.0035, -0.0234,  0.0681,\n",
       "         -0.0116, -0.0782, -0.0895, -0.0271, -0.0514, -0.0552, -0.0294, -0.0512,\n",
       "         -0.0264,  0.0323,  0.0087,  0.0787,  0.0317, -0.0366, -0.0580, -0.0687,\n",
       "         -0.0747,  0.0012,  0.0390,  0.0779,  0.0205, -0.0522, -0.0705, -0.0425,\n",
       "          0.0634, -0.0642,  0.0635,  0.0618,  0.0039, -0.0809, -0.0243,  0.0481,\n",
       "          0.0624,  0.0817,  0.0071,  0.0140, -0.0850, -0.0463, -0.0686,  0.0367,\n",
       "          0.0643,  0.0665, -0.0247, -0.0394,  0.0537,  0.0579, -0.0196,  0.0853,\n",
       "         -0.0089,  0.0476,  0.0754,  0.0493, -0.0722,  0.0675,  0.0198, -0.0644,\n",
       "         -0.0195,  0.0443,  0.0647, -0.0737, -0.0126, -0.0783, -0.0862,  0.0064,\n",
       "          0.0106,  0.0495, -0.0173,  0.0670, -0.0862, -0.0117,  0.0486,  0.0205,\n",
       "          0.0906, -0.0225, -0.0528,  0.0477,  0.0660, -0.0213,  0.0344,  0.0777,\n",
       "         -0.0143, -0.0777, -0.0026,  0.0081, -0.0456, -0.0765,  0.0643, -0.0263,\n",
       "          0.0883,  0.0796,  0.0292, -0.0553,  0.0480, -0.0134, -0.0861,  0.0440,\n",
       "          0.0384,  0.0430, -0.0871,  0.0316, -0.0419, -0.0679,  0.0365, -0.0264,\n",
       "         -0.0632,  0.0432,  0.0366,  0.0490, -0.0709, -0.0408, -0.0777,  0.0625,\n",
       "          0.0003,  0.0142, -0.0163, -0.0334,  0.0258,  0.0588, -0.0331,  0.0315,\n",
       "         -0.0439, -0.0344, -0.0724, -0.0805, -0.0412,  0.0500,  0.0244, -0.0726,\n",
       "          0.0345,  0.0864, -0.0794,  0.0465,  0.0577,  0.0485, -0.0536, -0.0743,\n",
       "         -0.0063, -0.0867, -0.0438, -0.0427, -0.0579,  0.0002,  0.0632,  0.0102,\n",
       "         -0.0261, -0.0132,  0.0668,  0.0199,  0.0597,  0.0479,  0.0781,  0.0218],\n",
       "        requires_grad=True),\n",
       " Parameter containing:\n",
       " tensor([[-0.0647,  0.0330, -0.0239,  ..., -0.0374, -0.0367,  0.0311],\n",
       "         [ 0.0163, -0.0162,  0.0131,  ..., -0.0289, -0.0690,  0.0381],\n",
       "         [-0.0218, -0.0399, -0.0294,  ..., -0.0603, -0.0021, -0.0307],\n",
       "         ...,\n",
       "         [-0.0149,  0.0628,  0.0349,  ..., -0.0095,  0.0575,  0.0881],\n",
       "         [ 0.0324, -0.0255, -0.0225,  ..., -0.0578,  0.0375, -0.0118],\n",
       "         [ 0.0005, -0.0111, -0.0159,  ...,  0.0487, -0.0335, -0.0126]],\n",
       "        requires_grad=True),\n",
       " Parameter containing:\n",
       " tensor([ 0.0027,  0.0330, -0.0263, -0.0587, -0.0078,  0.0590,  0.0358,  0.0361,\n",
       "         -0.0557, -0.0063, -0.0337, -0.0077, -0.0437,  0.0574, -0.0002, -0.0070,\n",
       "         -0.0059, -0.0218,  0.0142, -0.0196, -0.0571, -0.0360,  0.0198,  0.0515,\n",
       "          0.0054,  0.0182, -0.0550, -0.0408,  0.0234,  0.0323,  0.0514,  0.0169,\n",
       "         -0.0069, -0.0574, -0.0573, -0.0083, -0.0185, -0.0386,  0.0105, -0.0398,\n",
       "         -0.0492,  0.0207, -0.0509, -0.0558, -0.0505, -0.0402, -0.0665, -0.0158,\n",
       "          0.0388, -0.0672, -0.0269, -0.0218,  0.0353, -0.0482,  0.0499, -0.0424,\n",
       "         -0.0131, -0.0067, -0.0049,  0.0409,  0.0464,  0.0262, -0.0610, -0.0487,\n",
       "          0.0589,  0.0288,  0.0608,  0.0203, -0.0384,  0.0479,  0.0204,  0.0042,\n",
       "         -0.0115, -0.0254,  0.0324, -0.0243, -0.0156,  0.0178, -0.0531,  0.0026,\n",
       "         -0.0393,  0.0361, -0.0682,  0.0023, -0.0167, -0.0509,  0.0129, -0.0217,\n",
       "         -0.0436,  0.0195,  0.0111, -0.0382, -0.0068,  0.0339, -0.0535,  0.0685,\n",
       "          0.0226, -0.0346, -0.0662,  0.0134,  0.0133, -0.0220,  0.0025,  0.0052,\n",
       "         -0.0466,  0.0153, -0.0587,  0.0116,  0.0335, -0.0169, -0.0459,  0.0317,\n",
       "         -0.0572, -0.0694,  0.0213,  0.0157,  0.0253, -0.0441, -0.0043,  0.0227,\n",
       "          0.0480, -0.0139, -0.0181, -0.0422,  0.0145,  0.0532, -0.0086,  0.0521],\n",
       "        requires_grad=True),\n",
       " Parameter containing:\n",
       " tensor([[ 0.0312,  0.0475, -0.0622, -0.0520,  0.0603,  0.1038, -0.0361, -0.1113,\n",
       "           0.0848,  0.0698,  0.0918, -0.0323,  0.0564,  0.0530, -0.0876,  0.0418,\n",
       "           0.0684, -0.0866,  0.0500, -0.1090,  0.1000, -0.0866,  0.0885, -0.0914,\n",
       "           0.0895,  0.0574, -0.0345, -0.0411, -0.0361, -0.0537,  0.0657,  0.0343,\n",
       "          -0.1138, -0.0685,  0.0593,  0.0512,  0.0944,  0.0538,  0.0697, -0.0851,\n",
       "           0.0755, -0.1105,  0.0942,  0.1159,  0.0812, -0.1032, -0.1082, -0.0472,\n",
       "          -0.0728, -0.0545, -0.0843,  0.0671, -0.0613, -0.0296, -0.0648, -0.0807,\n",
       "           0.0501,  0.0917, -0.0367,  0.0949,  0.1100, -0.0784, -0.0810, -0.0970,\n",
       "          -0.0741, -0.0949,  0.1078, -0.0874, -0.0986, -0.0905, -0.0662,  0.0586,\n",
       "          -0.0890, -0.1129,  0.0586,  0.0213, -0.0459,  0.1160,  0.0532, -0.1118,\n",
       "           0.0851, -0.0565, -0.1018, -0.0982,  0.1077, -0.0971,  0.0847,  0.0405,\n",
       "           0.0821, -0.0377,  0.0523,  0.0685, -0.0764,  0.0875, -0.0453,  0.0544,\n",
       "          -0.0924, -0.0616, -0.1058, -0.0578,  0.0761,  0.0818,  0.0428,  0.0914,\n",
       "          -0.1136,  0.0604, -0.0969,  0.0505,  0.1098,  0.0858,  0.0770,  0.0634,\n",
       "          -0.0573, -0.0723,  0.0318,  0.0603,  0.0915, -0.0966, -0.0483,  0.0919,\n",
       "          -0.0857, -0.0721,  0.0704,  0.0627, -0.0757, -0.0530, -0.0685,  0.0534]],\n",
       "        requires_grad=True),\n",
       " Parameter containing:\n",
       " tensor([-0.0566], requires_grad=True)]"
      ]
     },
     "execution_count": 132,
     "metadata": {},
     "output_type": "execute_result"
    }
   ],
   "source": [
    "training_loop(\n",
    "    n_epochs=5000,\n",
    "    optimizer=optimizer_wine,\n",
    "    model=seq_model_wine,\n",
    "    loss_fn=nn.MSELoss(),\n",
    "    t_u_train=data_train,\n",
    "    t_u_val=data_val,\n",
    "    t_c_train=target_train,\n",
    "    t_c_val=target_val\n",
    ")"
   ]
  },
  {
   "cell_type": "code",
   "execution_count": 138,
   "id": "b58d37b1",
   "metadata": {},
   "outputs": [
    {
     "data": {
      "text/plain": [
       "(tensor([7.6000e+00, 2.0000e-01, 3.0000e-01, 1.4200e+01, 5.6000e-02, 5.3000e+01,\n",
       "         2.1250e+02, 9.9900e-01, 3.1400e+00, 4.6000e-01, 8.9000e+00]),\n",
       " tensor([8.]))"
      ]
     },
     "execution_count": 138,
     "metadata": {},
     "output_type": "execute_result"
    }
   ],
   "source": [
    "data_val[12], target_val[12]"
   ]
  },
  {
   "cell_type": "code",
   "execution_count": 139,
   "id": "9b8dd85d",
   "metadata": {},
   "outputs": [
    {
     "data": {
      "text/plain": [
       "tensor([6.0990], grad_fn=<ViewBackward0>)"
      ]
     },
     "execution_count": 139,
     "metadata": {},
     "output_type": "execute_result"
    }
   ],
   "source": [
    "seq_model_wine(data_val[12])"
   ]
  }
 ],
 "metadata": {
  "kernelspec": {
   "display_name": "cv_env",
   "language": "python",
   "name": "python3"
  },
  "language_info": {
   "codemirror_mode": {
    "name": "ipython",
    "version": 3
   },
   "file_extension": ".py",
   "mimetype": "text/x-python",
   "name": "python",
   "nbconvert_exporter": "python",
   "pygments_lexer": "ipython3",
   "version": "3.11.11"
  }
 },
 "nbformat": 4,
 "nbformat_minor": 5
}
