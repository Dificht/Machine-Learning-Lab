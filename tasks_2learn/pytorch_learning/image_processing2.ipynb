{
 "cells": [
  {
   "cell_type": "code",
   "execution_count": 24,
   "id": "23cfd5a0",
   "metadata": {},
   "outputs": [],
   "source": [
    "%matplotlib inline\n",
    "import matplotlib.pyplot as plt\n",
    "import torch\n",
    "import numpy as np\n",
    "from torchvision import datasets, transforms\n",
    "import torch.nn as nn\n",
    "import torch.optim as optim"
   ]
  },
  {
   "cell_type": "code",
   "execution_count": 9,
   "id": "621d03ca",
   "metadata": {},
   "outputs": [],
   "source": [
    "data_path = '../data-unversioned/p1ch7/'\n",
    "cifar10 = datasets.CIFAR10(\n",
    "    data_path, train=True, download=False,\n",
    "    transform=transforms.Compose([\n",
    "        transforms.ToTensor(),\n",
    "        transforms.Normalize((0.4915, 0.4823, 0.4468),\n",
    "                             (0.2470, 0.2435, 0.2616))\n",
    "    ]))\n",
    "cifar10_val = datasets.CIFAR10(\n",
    "    data_path, train=False, download=False,\n",
    "    transform=transforms.Compose([\n",
    "        transforms.ToTensor(),\n",
    "        transforms.Normalize((0.4915, 0.4823, 0.4468),\n",
    "                             (0.2470, 0.2435, 0.2616))\n",
    "    ]))"
   ]
  },
  {
   "cell_type": "code",
   "execution_count": 10,
   "id": "fe4d22f5",
   "metadata": {},
   "outputs": [],
   "source": [
    "label_map = {0: 0, 2: 1}\n",
    "class_names = ['airplane', 'bird']\n",
    "\n",
    "cifar2 = [(img, label_map[label]) \n",
    "          for img, label in cifar10 \n",
    "          if label in [0, 2]]\n",
    "\n",
    "cifar2_val = [(img, label_map[label]) \n",
    "              for img, label in cifar10_val \n",
    "              if label in [0, 2]]"
   ]
  },
  {
   "cell_type": "code",
   "execution_count": 32,
   "id": "9d96b8ee",
   "metadata": {},
   "outputs": [],
   "source": [
    "n_out = 2\n",
    "model = nn.Sequential(\n",
    "    nn.Linear(3072, 1024),\n",
    "    nn.Tanh(),\n",
    "    nn.Linear(1024, 512),\n",
    "    nn.Tanh(),\n",
    "    nn.Linear(512, 128),\n",
    "    nn.Tanh(),\n",
    "    nn.Linear(128, n_out),\n",
    "    nn.LogSoftmax(dim=1)\n",
    ")"
   ]
  },
  {
   "cell_type": "code",
   "execution_count": 18,
   "id": "3c9572da",
   "metadata": {},
   "outputs": [
    {
     "name": "stderr",
     "output_type": "stream",
     "text": [
      "Clipping input data to the valid range for imshow with RGB data ([0..1] for floats or [0..255] for integers). Got range [-1.8628641..2.029448].\n"
     ]
    },
    {
     "data": {
      "image/png": "[encoded data removed]",
      "text/plain": [
       "<Figure size 640x480 with 1 Axes>"
      ]
     },
     "metadata": {},
     "output_type": "display_data"
    }
   ],
   "source": [
    "img, _ = cifar2[0]\n",
    "\n",
    "plt.imshow(img.permute(1, 2, 0))\n",
    "plt.show()"
   ]
  },
  {
   "cell_type": "code",
   "execution_count": 19,
   "id": "cc4a95ea",
   "metadata": {},
   "outputs": [],
   "source": [
    "img_batch = img.view(-1).unsqueeze(0)"
   ]
  },
  {
   "cell_type": "code",
   "execution_count": 20,
   "id": "a914c29a",
   "metadata": {},
   "outputs": [
    {
     "data": {
      "text/plain": [
       "tensor([[-0.7489, -0.6404]], grad_fn=<LogSoftmaxBackward0>)"
      ]
     },
     "execution_count": 20,
     "metadata": {},
     "output_type": "execute_result"
    }
   ],
   "source": [
    "out = model(img_batch)\n",
    "out"
   ]
  },
  {
   "cell_type": "code",
   "execution_count": 21,
   "id": "bccde49d",
   "metadata": {},
   "outputs": [
    {
     "data": {
      "text/plain": [
       "tensor([1])"
      ]
     },
     "execution_count": 21,
     "metadata": {},
     "output_type": "execute_result"
    }
   ],
   "source": [
    "_, index = torch.max(out, dim=1)\n",
    "index"
   ]
  },
  {
   "cell_type": "code",
   "execution_count": 22,
   "id": "7dba6b13",
   "metadata": {},
   "outputs": [],
   "source": [
    "loss = nn.NLLLoss()"
   ]
  },
  {
   "cell_type": "code",
   "execution_count": 23,
   "id": "7443c027",
   "metadata": {},
   "outputs": [
    {
     "data": {
      "text/plain": [
       "tensor(0.6404, grad_fn=<NllLossBackward0>)"
      ]
     },
     "execution_count": 23,
     "metadata": {},
     "output_type": "execute_result"
    }
   ],
   "source": [
    "img, label = cifar2[0]\n",
    "out = model(img.view(-1).unsqueeze(0))\n",
    "loss(out, torch.tensor([label]))"
   ]
  },
  {
   "cell_type": "code",
   "execution_count": 26,
   "id": "d236e774",
   "metadata": {},
   "outputs": [],
   "source": [
    "train_loader = torch.utils.data.DataLoader(cifar2, batch_size=64, shuffle=True)"
   ]
  },
  {
   "cell_type": "code",
   "execution_count": 33,
   "id": "100b12bd",
   "metadata": {},
   "outputs": [
    {
     "name": "stdout",
     "output_type": "stream",
     "text": [
      "Epoch: 0, Loss: 0.451041\n",
      "Epoch: 1, Loss: 0.550624\n",
      "Epoch: 2, Loss: 0.451917\n",
      "Epoch: 3, Loss: 0.534328\n",
      "Epoch: 4, Loss: 0.387366\n",
      "Epoch: 5, Loss: 0.630054\n",
      "Epoch: 6, Loss: 0.334615\n",
      "Epoch: 7, Loss: 0.438803\n",
      "Epoch: 8, Loss: 0.434042\n",
      "Epoch: 9, Loss: 0.410462\n",
      "Epoch: 10, Loss: 0.482157\n",
      "Epoch: 11, Loss: 0.462272\n",
      "Epoch: 12, Loss: 0.349065\n",
      "Epoch: 13, Loss: 0.394666\n",
      "Epoch: 14, Loss: 0.428704\n",
      "Epoch: 15, Loss: 0.491858\n",
      "Epoch: 16, Loss: 0.360572\n",
      "Epoch: 17, Loss: 0.152818\n",
      "Epoch: 18, Loss: 0.485033\n",
      "Epoch: 19, Loss: 0.435704\n",
      "Epoch: 20, Loss: 0.193811\n",
      "Epoch: 21, Loss: 0.305395\n",
      "Epoch: 22, Loss: 0.186039\n",
      "Epoch: 23, Loss: 0.188051\n",
      "Epoch: 24, Loss: 0.395289\n",
      "Epoch: 25, Loss: 0.224212\n",
      "Epoch: 26, Loss: 0.337743\n",
      "Epoch: 27, Loss: 0.317162\n",
      "Epoch: 28, Loss: 0.174931\n",
      "Epoch: 29, Loss: 0.391648\n",
      "Epoch: 30, Loss: 0.161552\n",
      "Epoch: 31, Loss: 0.098255\n",
      "Epoch: 32, Loss: 0.061663\n",
      "Epoch: 33, Loss: 0.143617\n",
      "Epoch: 34, Loss: 0.066569\n",
      "Epoch: 35, Loss: 0.446866\n",
      "Epoch: 36, Loss: 0.128623\n",
      "Epoch: 37, Loss: 1.197982\n",
      "Epoch: 38, Loss: 0.240673\n",
      "Epoch: 39, Loss: 0.187744\n",
      "Epoch: 40, Loss: 0.101467\n",
      "Epoch: 41, Loss: 0.122492\n",
      "Epoch: 42, Loss: 0.264104\n",
      "Epoch: 43, Loss: 0.135496\n",
      "Epoch: 44, Loss: 0.142427\n",
      "Epoch: 45, Loss: 0.099028\n",
      "Epoch: 46, Loss: 0.137037\n",
      "Epoch: 47, Loss: 0.028021\n",
      "Epoch: 48, Loss: 0.135762\n",
      "Epoch: 49, Loss: 0.026838\n"
     ]
    }
   ],
   "source": [
    "learning_rate = 1e-2\n",
    "optimizer = optim.SGD(model.parameters(), lr=learning_rate)\n",
    "loss_fn = nn.NLLLoss()\n",
    "n_epochs = 50\n",
    "\n",
    "for epoch in range(n_epochs):\n",
    "    for imgs, labels in train_loader:\n",
    "        batch_size = imgs.shape[0]\n",
    "        outputs = model(imgs.view(batch_size, -1))\n",
    "        loss = loss_fn(outputs, labels)\n",
    "\n",
    "        optimizer.zero_grad()\n",
    "        loss.backward()\n",
    "        optimizer.step()\n",
    "    \n",
    "    print(\"Epoch: %d, Loss: %f\" % (epoch, float(loss)))"
   ]
  },
  {
   "cell_type": "code",
   "execution_count": 34,
   "id": "f3356a06",
   "metadata": {},
   "outputs": [
    {
     "name": "stdout",
     "output_type": "stream",
     "text": [
      "Accuracy: %f 0.821\n"
     ]
    }
   ],
   "source": [
    "val_loader = torch.utils.data.DataLoader(cifar2_val, batch_size=64, shuffle=False)\n",
    "correct = 0\n",
    "total = 0\n",
    "\n",
    "with torch.no_grad():\n",
    "    for imgs, labels in val_loader:\n",
    "        batch_size = imgs.shape[0]\n",
    "        outputs = model(imgs.view(batch_size, -1))\n",
    "        _, predicted = torch.max(outputs, dim=1)\n",
    "        total += labels.shape[0]\n",
    "        correct += int((predicted == labels).sum())\n",
    "    \n",
    "    print(\"Accuracy: %f\", correct / total)"
   ]
  },
  {
   "cell_type": "code",
   "execution_count": null,
   "id": "c0b3d885",
   "metadata": {},
   "outputs": [],
   "source": []
  }
 ],
 "metadata": {
  "kernelspec": {
   "display_name": "cv_env",
   "language": "python",
   "name": "python3"
  },
  "language_info": {
   "codemirror_mode": {
    "name": "ipython",
    "version": 3
   },
   "file_extension": ".py",
   "mimetype": "text/x-python",
   "name": "python",
   "nbconvert_exporter": "python",
   "pygments_lexer": "ipython3",
   "version": "3.11.11"
  }
 },
 "nbformat": 4,
 "nbformat_minor": 5
}
