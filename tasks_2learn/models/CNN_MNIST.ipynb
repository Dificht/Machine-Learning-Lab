{
 "cells": [
  {
   "cell_type": "code",
   "execution_count": 20,
   "id": "50faa06d-dc24-4d0b-a9cc-ae30feff1113",
   "metadata": {
    "tags": []
   },
   "outputs": [],
   "source": [
    "import torch\n",
    "import torch.nn as nn\n",
    "import torch.optim as optim\n",
    "import torchvision.transforms as transforms\n",
    "import torchvision.datasets as datasets\n",
    "from torch.utils.data import DataLoader"
   ]
  },
  {
   "cell_type": "code",
   "execution_count": 21,
   "id": "55783606-442d-4750-a4a0-228243306a9a",
   "metadata": {
    "tags": []
   },
   "outputs": [],
   "source": [
    "# Загрузка и предобработка датасета MNIST\n",
    "transform = transforms.Compose([\n",
    "    transforms.ToTensor(),\n",
    "    transforms.Normalize((0.1307,), (0.3081,))\n",
    "])"
   ]
  },
  {
   "cell_type": "code",
   "execution_count": 22,
   "id": "b2bad0c9-9403-432c-8a29-c8cfb62f6e79",
   "metadata": {
    "tags": []
   },
   "outputs": [],
   "source": [
    "train_dataset = datasets.MNIST(root='./data', train=True, transform=transform, download=True)\n",
    "train_loader = DataLoader(dataset=train_dataset, batch_size=100, shuffle=True)\n",
    "\n",
    "test_dataset = datasets.MNIST(root='./data', train=False, transform=transform, download=True)\n",
    "test_loader = DataLoader(dataset=test_dataset, batch_size=100, shuffle=False)"
   ]
  },
  {
   "cell_type": "code",
   "execution_count": 37,
   "id": "2b3cfbd7-36c8-40e8-90ed-31036fa5ebe0",
   "metadata": {
    "tags": []
   },
   "outputs": [],
   "source": [
    "# Определение модели CNN\n",
    "class CNN(nn.Module):\n",
    "    def __init__(self):\n",
    "        super(CNN, self).__init__()\n",
    "        self.layer1 = nn.Sequential(\n",
    "            nn.Conv2d(1, 32, kernel_size=20, padding=1),\n",
    "            nn.BatchNorm2d(32),\n",
    "            nn.ReLU(),\n",
    "            nn.MaxPool2d(kernel_size=2, stride=2)\n",
    "        )\n",
    "        self.fc1 = nn.Linear(800, 1000)\n",
    "        self.fc2 = nn.Linear(1000, 10)\n",
    "    \n",
    "    def forward(self, x):\n",
    "        out = self.layer1(x)\n",
    "        out = out.view(out.size(0), -1)  # Разворачивание тензора\n",
    "        out = self.fc1(out)\n",
    "        out = self.fc2(out)\n",
    "        return out"
   ]
  },
  {
   "cell_type": "code",
   "execution_count": 38,
   "id": "4ff10787-019b-42de-8778-f94d59d7b5b8",
   "metadata": {
    "tags": []
   },
   "outputs": [],
   "source": [
    "# Инициализация модели, функции потерь и оптимизатора\n",
    "model = CNN()\n",
    "criterion = nn.CrossEntropyLoss()\n",
    "optimizer = optim.Adam(model.parameters(), lr=0.001)"
   ]
  },
  {
   "cell_type": "code",
   "execution_count": 39,
   "id": "a1c567a8-3e3e-4bb9-9083-53aa8b345000",
   "metadata": {
    "tags": []
   },
   "outputs": [
    {
     "name": "stdout",
     "output_type": "stream",
     "text": [
      "**Epoch [1/5], Step [100/600], Loss: 0.1453**\n",
      "**Epoch [1/5], Step [200/600], Loss: 0.2021**\n",
      "**Epoch [1/5], Step [300/600], Loss: 0.0433**\n",
      "**Epoch [1/5], Step [400/600], Loss: 0.0600**\n",
      "**Epoch [1/5], Step [500/600], Loss: 0.0925**\n",
      "**Epoch [1/5], Step [600/600], Loss: 0.1161**\n",
      "**Epoch [2/5], Step [100/600], Loss: 0.1325**\n",
      "**Epoch [2/5], Step [200/600], Loss: 0.1146**\n",
      "**Epoch [2/5], Step [300/600], Loss: 0.0284**\n",
      "**Epoch [2/5], Step [400/600], Loss: 0.0083**\n",
      "**Epoch [2/5], Step [500/600], Loss: 0.1519**\n",
      "**Epoch [2/5], Step [600/600], Loss: 0.0566**\n",
      "**Epoch [3/5], Step [100/600], Loss: 0.0436**\n",
      "**Epoch [3/5], Step [200/600], Loss: 0.1716**\n",
      "**Epoch [3/5], Step [300/600], Loss: 0.0544**\n",
      "**Epoch [3/5], Step [400/600], Loss: 0.1409**\n",
      "**Epoch [3/5], Step [500/600], Loss: 0.2481**\n",
      "**Epoch [3/5], Step [600/600], Loss: 0.0173**\n",
      "**Epoch [4/5], Step [100/600], Loss: 0.0094**\n",
      "**Epoch [4/5], Step [200/600], Loss: 0.0819**\n",
      "**Epoch [4/5], Step [300/600], Loss: 0.0225**\n",
      "**Epoch [4/5], Step [400/600], Loss: 0.2078**\n",
      "**Epoch [4/5], Step [500/600], Loss: 0.1090**\n",
      "**Epoch [4/5], Step [600/600], Loss: 0.0277**\n",
      "**Epoch [5/5], Step [100/600], Loss: 0.0584**\n",
      "**Epoch [5/5], Step [200/600], Loss: 0.0877**\n",
      "**Epoch [5/5], Step [300/600], Loss: 0.0097**\n",
      "**Epoch [5/5], Step [400/600], Loss: 0.1437**\n",
      "**Epoch [5/5], Step [500/600], Loss: 0.0440**\n",
      "**Epoch [5/5], Step [600/600], Loss: 0.0197**\n"
     ]
    }
   ],
   "source": [
    "# Обучение модели\n",
    "num_epochs = 5\n",
    "for epoch in range(num_epochs):\n",
    "    for i, (images, labels) in enumerate(train_loader):\n",
    "        outputs = model(images)\n",
    "        loss = criterion(outputs, labels)\n",
    "        \n",
    "        optimizer.zero_grad()\n",
    "        loss.backward()\n",
    "        optimizer.step()\n",
    "        \n",
    "        if (i+1) % 100 == 0:\n",
    "            print(f'**Epoch [{epoch+1}/{num_epochs}], Step [{i+1}/{len(train_loader)}], Loss: {loss.item():.4f}**')"
   ]
  },
  {
   "cell_type": "code",
   "execution_count": 40,
   "id": "b4aa8df8-3ec0-4362-bc46-9a96e3438233",
   "metadata": {
    "tags": []
   },
   "outputs": [
    {
     "name": "stdout",
     "output_type": "stream",
     "text": [
      "**Accuracy of the model on the 10000 test images: 98.05%**\n"
     ]
    }
   ],
   "source": [
    "# Оценка модели\n",
    "model.eval()  # Переключение в режим оценки\n",
    "with torch.no_grad():\n",
    "    correct = 0\n",
    "    total = 0\n",
    "    for images, labels in test_loader:\n",
    "        outputs = model(images)\n",
    "        _, predicted = torch.max(outputs.data, 1)\n",
    "        total += labels.size(0)\n",
    "        correct += (predicted == labels).sum().item()\n",
    "\n",
    "    print(f'**Accuracy of the model on the 10000 test images: {100 * correct / total}%**')"
   ]
  },
  {
   "cell_type": "code",
   "execution_count": null,
   "id": "a335e4df-46b3-463c-8cfa-b31461a32df1",
   "metadata": {},
   "outputs": [],
   "source": []
  }
 ],
 "metadata": {
  "kernelspec": {
   "display_name": "Python 3 (ipykernel)",
   "language": "python",
   "name": "python3"
  },
  "language_info": {
   "codemirror_mode": {
    "name": "ipython",
    "version": 3
   },
   "file_extension": ".py",
   "mimetype": "text/x-python",
   "name": "python",
   "nbconvert_exporter": "python",
   "pygments_lexer": "ipython3",
   "version": "3.12.2"
  }
 },
 "nbformat": 4,
 "nbformat_minor": 5
}
