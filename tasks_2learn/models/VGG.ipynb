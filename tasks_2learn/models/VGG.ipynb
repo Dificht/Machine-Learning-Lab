{
 "cells": [
  {
   "cell_type": "code",
   "execution_count": null,
   "id": "740fd2bf-c57a-4b5a-a4be-d606d45a6427",
   "metadata": {},
   "outputs": [],
   "source": []
  },
  {
   "cell_type": "code",
   "execution_count": null,
   "id": "e99bb541-e7d7-4a47-bcf7-64a88f6967ad",
   "metadata": {},
   "outputs": [],
   "source": []
  }
 ],
 "metadata": {
  "kernelspec": {
   "display_name": "",
   "name": ""
  },
  "language_info": {
   "name": ""
  }
 },
 "nbformat": 4,
 "nbformat_minor": 5
}
