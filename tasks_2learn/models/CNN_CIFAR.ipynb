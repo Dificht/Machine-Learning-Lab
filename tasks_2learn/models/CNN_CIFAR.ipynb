{
 "cells": [
  {
   "cell_type": "code",
   "execution_count": 1,
   "id": "1656952b-ebc4-44d5-8a6a-bfc7565663ed",
   "metadata": {
    "tags": []
   },
   "outputs": [],
   "source": [
    "import torch\n",
    "import torch.nn as nn\n",
    "import torch.optim as optim\n",
    "import torchvision.transforms as transforms\n",
    "import torchvision.datasets as datasets\n",
    "from torch.utils.data import DataLoader"
   ]
  },
  {
   "cell_type": "code",
   "execution_count": 2,
   "id": "64b94460-410e-4aeb-972a-1fc6f5db9685",
   "metadata": {
    "tags": []
   },
   "outputs": [],
   "source": [
    "# Загрузка и предобработка датасета CIFAR-10\n",
    "transform = transforms.Compose([\n",
    "    transforms.ToTensor(),\n",
    "    transforms.Normalize((0.5, 0.5, 0.5), (0.5, 0.5, 0.5))\n",
    "])"
   ]
  },
  {
   "cell_type": "code",
   "execution_count": 3,
   "id": "29cf0caa-3bb6-44ce-9980-060e6d8b143c",
   "metadata": {
    "tags": []
   },
   "outputs": [
    {
     "name": "stdout",
     "output_type": "stream",
     "text": [
      "Files already downloaded and verified\n",
      "Files already downloaded and verified\n"
     ]
    }
   ],
   "source": [
    "train_dataset = datasets.CIFAR10(root='./data', train=True, transform=transform, download=True)\n",
    "train_loader = DataLoader(dataset=train_dataset, batch_size=100, shuffle=True)\n",
    "\n",
    "test_dataset = datasets.CIFAR10(root='./data', train=False, transform=transform, download=True)\n",
    "test_loader = DataLoader(dataset=test_dataset, batch_size=100, shuffle=False)"
   ]
  },
  {
   "cell_type": "code",
   "execution_count": 4,
   "id": "09ce8e61-162c-43b2-a6bf-2a9734da337d",
   "metadata": {
    "tags": []
   },
   "outputs": [],
   "source": [
    "# Определение модели CNN\n",
    "class CNN(nn.Module):\n",
    "    def __init__(self):\n",
    "        super(CNN, self).__init__()\n",
    "        self.layer1 = nn.Sequential(\n",
    "            nn.Conv2d(3, 32, kernel_size=5, padding=2),\n",
    "            nn.BatchNorm2d(32),\n",
    "            nn.ReLU(),\n",
    "            nn.MaxPool2d(kernel_size=2, stride=2)\n",
    "        )\n",
    "        self.layer2 = nn.Sequential(\n",
    "            nn.Conv2d(32, 64, kernel_size=5),\n",
    "            nn.BatchNorm2d(64),\n",
    "            nn.ReLU(),\n",
    "            nn.MaxPool2d(kernel_size=2, stride=2)\n",
    "        )\n",
    "        self.layer3 = nn.Sequential(\n",
    "            nn.Conv2d(64, 128, kernel_size=5),\n",
    "            nn.BatchNorm2d(128),\n",
    "            nn.ReLU(),\n",
    "            nn.MaxPool2d(kernel_size=2, stride=2)\n",
    "        )\n",
    "\n",
    "        self.fc1 = nn.Linear(128, 512)\n",
    "        self.fc2 = nn.Linear(512, 10)\n",
    "    \n",
    "    def forward(self, x):\n",
    "        out = self.layer1(x)\n",
    "        out = self.layer2(out)\n",
    "        out = self.layer3(out)\n",
    "        out = out.view(out.size(0), -1)  # Разворачивание тензора\n",
    "        out = self.fc1(out)\n",
    "        out = self.fc2(out)\n",
    "        return out"
   ]
  },
  {
   "cell_type": "code",
   "execution_count": 5,
   "id": "853eb0e0-7ee6-43c6-96db-965cb50b2f03",
   "metadata": {
    "tags": []
   },
   "outputs": [],
   "source": [
    "# Инициализация модели, функции потерь и оптимизатора\n",
    "model = CNN()\n",
    "criterion = nn.CrossEntropyLoss()\n",
    "optimizer = optim.Adam(model.parameters(), lr=0.001)"
   ]
  },
  {
   "cell_type": "code",
   "execution_count": 6,
   "id": "c5941326-2444-4cea-a1eb-8a17a5df2130",
   "metadata": {
    "tags": []
   },
   "outputs": [
    {
     "name": "stdout",
     "output_type": "stream",
     "text": [
      "Epoch [1/5], Step [100/500], Loss: 1.2612\n",
      "Epoch [1/5], Step [200/500], Loss: 1.1975\n",
      "Epoch [1/5], Step [300/500], Loss: 1.0418\n",
      "Epoch [1/5], Step [400/500], Loss: 0.8480\n",
      "Epoch [1/5], Step [500/500], Loss: 0.9297\n",
      "Epoch [2/5], Step [100/500], Loss: 0.9034\n",
      "Epoch [2/5], Step [200/500], Loss: 0.8387\n",
      "Epoch [2/5], Step [300/500], Loss: 0.8155\n",
      "Epoch [2/5], Step [400/500], Loss: 0.6653\n",
      "Epoch [2/5], Step [500/500], Loss: 0.9174\n",
      "Epoch [3/5], Step [100/500], Loss: 0.6533\n",
      "Epoch [3/5], Step [200/500], Loss: 0.6889\n",
      "Epoch [3/5], Step [300/500], Loss: 0.7539\n",
      "Epoch [3/5], Step [400/500], Loss: 0.8104\n",
      "Epoch [3/5], Step [500/500], Loss: 0.8188\n",
      "Epoch [4/5], Step [100/500], Loss: 0.5504\n",
      "Epoch [4/5], Step [200/500], Loss: 0.5123\n",
      "Epoch [4/5], Step [300/500], Loss: 0.6225\n",
      "Epoch [4/5], Step [400/500], Loss: 0.4727\n",
      "Epoch [4/5], Step [500/500], Loss: 0.6147\n",
      "Epoch [5/5], Step [100/500], Loss: 0.4002\n",
      "Epoch [5/5], Step [200/500], Loss: 0.5641\n",
      "Epoch [5/5], Step [300/500], Loss: 0.4356\n",
      "Epoch [5/5], Step [400/500], Loss: 0.5347\n",
      "Epoch [5/5], Step [500/500], Loss: 0.4866\n"
     ]
    }
   ],
   "source": [
    "# Обучение модели\n",
    "num_epochs = 5\n",
    "for epoch in range(num_epochs):\n",
    "    for i, (images, labels) in enumerate(train_loader):\n",
    "        outputs = model(images)\n",
    "        loss = criterion(outputs, labels)\n",
    "        \n",
    "        optimizer.zero_grad()\n",
    "        loss.backward()\n",
    "        optimizer.step()\n",
    "        \n",
    "        if (i+1) % 100 == 0:\n",
    "            print(f'Epoch [{epoch+1}/{num_epochs}], Step [{i+1}/{len(train_loader)}], Loss: {loss.item():.4f}')"
   ]
  },
  {
   "cell_type": "code",
   "execution_count": 7,
   "id": "04ca9eba-2740-48da-bcf8-9db69366e784",
   "metadata": {
    "tags": []
   },
   "outputs": [
    {
     "name": "stdout",
     "output_type": "stream",
     "text": [
      "Accuracy of the model on the 10000 test images: 74.18%\n"
     ]
    }
   ],
   "source": [
    "# Оценка модели\n",
    "model.eval()  # Переключение в режим оценки\n",
    "with torch.no_grad():\n",
    "    correct = 0\n",
    "    total = 0\n",
    "    for images, labels in test_loader:\n",
    "        outputs = model(images)\n",
    "        _, predicted = torch.max(outputs.data, 1)\n",
    "        total += labels.size(0)\n",
    "        correct += (predicted == labels).sum().item()\n",
    "\n",
    "    print(f'Accuracy of the model on the 10000 test images: {100 * correct / total}%')"
   ]
  }
 ],
 "metadata": {
  "kernelspec": {
   "display_name": "Python 3 (ipykernel)",
   "language": "python",
   "name": "python3"
  },
  "language_info": {
   "codemirror_mode": {
    "name": "ipython",
    "version": 3
   },
   "file_extension": ".py",
   "mimetype": "text/x-python",
   "name": "python",
   "nbconvert_exporter": "python",
   "pygments_lexer": "ipython3",
   "version": "3.12.2"
  }
 },
 "nbformat": 4,
 "nbformat_minor": 5
}
