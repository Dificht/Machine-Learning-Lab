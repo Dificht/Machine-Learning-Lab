{
 "cells": [
  {
   "cell_type": "code",
   "execution_count": 1,
   "id": "aa0fe62e-2137-4026-be56-e73dd1c467dd",
   "metadata": {},
   "outputs": [],
   "source": [
    "import torch\n",
    "import torch.nn as nn\n",
    "import torch.optim as optim\n",
    "import torchvision\n",
    "import torchvision.transforms as transforms\n",
    "from torch.utils.data import DataLoader\n",
    "import torchvision.datasets as datasets\n",
    "from tqdm import tqdm"
   ]
  },
  {
   "cell_type": "code",
   "execution_count": 2,
   "id": "5b3d5f8b-f58c-4c2e-8a1f-72308b4d667e",
   "metadata": {},
   "outputs": [],
   "source": [
    "# Гиперпараметры\n",
    "# input_size = 3 * 455 * 500  # ???\n",
    "num_classes = 211\n",
    "learning_rate = 0.001\n",
    "batch_size = 100\n",
    "num_epochs = 5"
   ]
  },
  {
   "cell_type": "code",
   "execution_count": 3,
   "id": "0abb5593-4250-48a4-b651-6c1ed00ad671",
   "metadata": {},
   "outputs": [],
   "source": [
    "new_size = (182, 200)\n",
    "# Загрузка и предобработка датасета Country211\n",
    "transform = transforms.Compose([\n",
    "    transforms.Resize(size=new_size),\n",
    "    transforms.ToTensor(),\n",
    "    transforms.Normalize((0.5, 0.5, 0.5), (0.5, 0.5, 0.5))\n",
    "])"
   ]
  },
  {
   "cell_type": "code",
   "execution_count": 4,
   "id": "3a8aae3f-1978-42f7-8c17-98e28fbb329b",
   "metadata": {},
   "outputs": [],
   "source": [
    "# train_dataset = datasets.CIFAR10(root='./data', train=True, transform=transform, download=True)\n",
    "# test_dataset = datasets.CIFAR10(root='./data', train=False, transform=transform, download=True)\n",
    "train_dataset = torchvision.datasets.Country211(root='./data', split='train', transform=transform, download=True)\n",
    "test_dataset = torchvision.datasets.Country211(root='./data', split='test', transform=transform, download=True)"
   ]
  },
  {
   "cell_type": "code",
   "execution_count": 5,
   "id": "f8561d32-59c2-4dfb-a0e4-450220274075",
   "metadata": {},
   "outputs": [],
   "source": [
    "train_loader = DataLoader(dataset=train_dataset, batch_size=batch_size, shuffle=True)\n",
    "test_loader = DataLoader(dataset=test_dataset, batch_size=batch_size, shuffle=False)"
   ]
  },
  {
   "cell_type": "code",
   "execution_count": 9,
   "id": "1ebd6a19-4bc5-4521-b505-027f6e37bd02",
   "metadata": {},
   "outputs": [],
   "source": [
    "# Определение модели CNN\n",
    "class CNN(nn.Module):  # Здесь мы создаем класс CNN, который наследуется от nn.Module. Этот класс будет представлять нашу сверточную нейронную сеть.\n",
    "    def __init__(self):\n",
    "        super(CNN, self).__init__()\n",
    "        # Здесь мы создаем последовательность слоев (nn.Sequential), которая будет представлять первый слой нашей модели. \n",
    "        # В этой последовательности мы добавляем следующие слои:\n",
    "        self.layer1 = nn.Sequential(\n",
    "            nn.Conv2d(3, 32, kernel_size=2, padding=2),  # Сверточный слой с 3 входными каналами (RGB), 192 выходными каналами и ядром размером 8x8. \n",
    "            nn.BatchNorm2d(32),  # Нормализация по батчу для 192 выходных каналов.\n",
    "            nn.ReLU(),\n",
    "            nn.MaxPool2d(kernel_size=3, stride=2)  # Слой пулинга (максимальное значение) с ядром размером 2x2 и шагом 2.\n",
    "        )\n",
    "        self.layer2 = nn.Sequential(\n",
    "            nn.Conv2d(32, 32, kernel_size=4, padding=2),  # Сверточный слой с 3 входными каналами (RGB), 192 выходными каналами и ядром размером 8x8. \n",
    "            nn.BatchNorm2d(32),  # Нормализация по батчу для 192 выходных каналов.\n",
    "            nn.ReLU(),\n",
    "            nn.MaxPool2d(kernel_size=3, stride=2)  # Слой пулинга (максимальное значение) с ядром размером 2x2 и шагом 2.\n",
    "        )\n",
    "        self.layer3 = nn.Sequential(\n",
    "            nn.Conv2d(32, 32, kernel_size=6, padding=2),  # Сверточный слой с 3 входными каналами (RGB), 192 выходными каналами и ядром размером 8x8. \n",
    "            nn.BatchNorm2d(32),  # Нормализация по батчу для 192 выходных каналов.\n",
    "            nn.ReLU(),\n",
    "            nn.MaxPool2d(kernel_size=3, stride=2)  # Слой пулинга (максимальное значение) с ядром размером 2x2 и шагом 2.\n",
    "        )\n",
    "\n",
    "        self.fc1 = nn.Linear(16896, 512)  #  Здесь мы создаем полносвязный слой (nn.Linear) с 8192 входами и 512 выходами.\n",
    "        self.fc2 = nn.Linear(512, 256)\n",
    "        self.fc3 = nn.Linear(256, 211)  # Еще один полносвязный слой с 512 входами и 10 выходами. Обычно это количество классов в задаче классификации.\n",
    "    \n",
    "    def forward(self, x):  # Метод forward определяет, как данные будут передаваться через модель.\n",
    "        out = self.layer1(x)  # Пропускаем входные данные через первый слой.\n",
    "        out = self.layer2(out)\n",
    "        out = self.layer3(out)\n",
    "        out = out.view(out.size(0), -1)  # Разворачиваем тензор, чтобы подготовить его для полносвязных слоев.\n",
    "        out = self.fc1(out)  # Пропускаем через первый полносвязный слой.\n",
    "        out = self.fc2(out)  # Пропускаем через второй полносвязный слой.\n",
    "        out = self.fc3(out)\n",
    "        return out"
   ]
  },
  {
   "cell_type": "code",
   "execution_count": 10,
   "id": "18b4ccba-0cf6-49fe-aed4-93d63245a54b",
   "metadata": {},
   "outputs": [],
   "source": [
    "# Инициализация модели, функции потерь и оптимизатора\n",
    "model = CNN()\n",
    "\n",
    "# Эта строка создает экземпляр функции потерь CrossEntropyLoss. Эта функция используется для вычисления ошибки между предсказаниями модели и истинными\n",
    "criterion = nn.CrossEntropyLoss()\n",
    "\n",
    "# Здесь мы создаем оптимизатор Adam. Он обновляет параметры модели на основе градиентов, вычисленных во время обратного распространения ошибки. \n",
    "# Параметр lr устанавливает скорость обучения (learning rate), которая контролирует, насколько быстро модель адаптируется к данным.\n",
    "optimizer = optim.Adam(model.parameters(), lr=learning_rate) "
   ]
  },
  {
   "cell_type": "code",
   "execution_count": 11,
   "id": "c52c9abc-9c70-4b22-a6ce-414f1587a13c",
   "metadata": {},
   "outputs": [
    {
     "name": "stdout",
     "output_type": "stream",
     "text": [
      "Epoch [1/5], Step [100/317], Loss: 5.6908\n",
      "Epoch [1/5], Step [200/317], Loss: 5.4003\n",
      "Epoch [1/5], Step [300/317], Loss: 5.3653\n",
      "Epoch [2/5], Step [100/317], Loss: 5.2732\n",
      "Epoch [2/5], Step [200/317], Loss: 5.2049\n",
      "Epoch [2/5], Step [300/317], Loss: 5.1582\n",
      "Epoch [3/5], Step [100/317], Loss: 5.1183\n",
      "Epoch [3/5], Step [200/317], Loss: 5.0179\n",
      "Epoch [3/5], Step [300/317], Loss: 5.2002\n",
      "Epoch [4/5], Step [100/317], Loss: 5.0245\n",
      "Epoch [4/5], Step [200/317], Loss: 5.0090\n",
      "Epoch [4/5], Step [300/317], Loss: 5.1287\n",
      "Epoch [5/5], Step [100/317], Loss: 5.0628\n",
      "Epoch [5/5], Step [200/317], Loss: 5.1473\n",
      "Epoch [5/5], Step [300/317], Loss: 4.8622\n"
     ]
    }
   ],
   "source": [
    "# Обучение модели\n",
    "for epoch in range(num_epochs):\n",
    "    for i, (images, labels) in enumerate(train_loader):\n",
    "        outputs = model(images)\n",
    "        loss = criterion(outputs, labels)\n",
    "        \n",
    "        optimizer.zero_grad()\n",
    "        loss.backward()\n",
    "        optimizer.step()\n",
    "        \n",
    "        if (i+1) % 100 == 0:\n",
    "            print(f'Epoch [{epoch+1}/{num_epochs}], Step [{i+1}/{len(train_loader)}], Loss: {loss.item():.4f}')"
   ]
  },
  {
   "cell_type": "code",
   "execution_count": 12,
   "id": "c2d1b2ce-9cb4-4418-840c-2953734975ae",
   "metadata": {},
   "outputs": [
    {
     "name": "stdout",
     "output_type": "stream",
     "text": [
      "Accuracy of the model on the 10000 test images: 2.9668246445497632%\n"
     ]
    }
   ],
   "source": [
    "# Оценка модели\n",
    "model.eval()  # Переключение в режим оценки\n",
    "with torch.no_grad():\n",
    "    correct = 0\n",
    "    total = 0\n",
    "    for images, labels in test_loader:\n",
    "        outputs = model(images)\n",
    "        _, predicted = torch.max(outputs.data, 1)\n",
    "        total += labels.size(0)\n",
    "        correct += (predicted == labels).sum().item()\n",
    "\n",
    "    print(f'Accuracy of the model on the 10000 test images: {100 * correct / total}%')"
   ]
  },
  {
   "cell_type": "code",
   "execution_count": null,
   "id": "cc5fb1c7-9923-49f2-ae97-169ec28945c8",
   "metadata": {},
   "outputs": [],
   "source": []
  }
 ],
 "metadata": {
  "kernelspec": {
   "display_name": "Python 3 (ipykernel)",
   "language": "python",
   "name": "python3"
  },
  "language_info": {
   "codemirror_mode": {
    "name": "ipython",
    "version": 3
   },
   "file_extension": ".py",
   "mimetype": "text/x-python",
   "name": "python",
   "nbconvert_exporter": "python",
   "pygments_lexer": "ipython3",
   "version": "3.12.2"
  }
 },
 "nbformat": 4,
 "nbformat_minor": 5
}
