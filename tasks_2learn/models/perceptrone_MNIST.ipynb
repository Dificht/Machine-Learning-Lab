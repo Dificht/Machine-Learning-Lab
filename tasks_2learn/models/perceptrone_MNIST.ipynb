{
 "cells": [
  {
   "cell_type": "code",
   "execution_count": 2,
   "id": "57b1ccb3-c1ca-408b-a0f5-abdd81771948",
   "metadata": {
    "tags": []
   },
   "outputs": [],
   "source": [
    "import torch\n",
    "import torch.nn as nn\n",
    "import torch.optim as optim\n",
    "from torchvision import datasets, transforms"
   ]
  },
  {
   "cell_type": "code",
   "execution_count": 3,
   "id": "ffb90caa-82eb-4f1f-9307-51b1676855e6",
   "metadata": {
    "tags": []
   },
   "outputs": [],
   "source": [
    "import matplotlib.pyplot as plt\n",
    "import numpy as np\n",
    "from tqdm import tqdm"
   ]
  },
  {
   "cell_type": "code",
   "execution_count": 3,
   "id": "27aedb2d-765b-47c4-b4c6-0c563f521521",
   "metadata": {
    "tags": []
   },
   "outputs": [],
   "source": [
    "# Функция для отображения изображений\n",
    "def show_images(images, labels):\n",
    "    fig, axes = plt.subplots(1, len(images), figsize=(12, 3))\n",
    "    for img, label, ax in zip(images, labels, axes):\n",
    "        ax.imshow(img.numpy().squeeze(), cmap='gray')\n",
    "        ax.set_title(f'Label: {label}')\n",
    "        ax.axis('off')\n",
    "    plt.show()"
   ]
  },
  {
   "cell_type": "code",
   "execution_count": 4,
   "id": "5e3d703a-2913-4e04-945a-318ee4af75a2",
   "metadata": {
    "tags": []
   },
   "outputs": [],
   "source": [
    "# Гиперпараметры\n",
    "batch_size = 64\n",
    "learning_rate = 0.01\n",
    "num_epochs = 5"
   ]
  },
  {
   "cell_type": "code",
   "execution_count": 5,
   "id": "5585e197-6e13-43dd-9a22-7b1cb15b8d19",
   "metadata": {
    "tags": []
   },
   "outputs": [],
   "source": [
    "# Загрузка и предобработка датасета MNIST\n",
    "dataset = datasets.MNIST(root='./data', train=True, transform=transforms.ToTensor(), download=True)"
   ]
  },
  {
   "cell_type": "code",
   "execution_count": 6,
   "id": "2c2486e9-3966-40d8-90a1-bf97f440bd42",
   "metadata": {
    "tags": []
   },
   "outputs": [
    {
     "data": {
      "image/png": "[encoded data removed]",
      "text/plain": [
       "<Figure size 1200x300 with 5 Axes>"
      ]
     },
     "metadata": {},
     "output_type": "display_data"
    }
   ],
   "source": [
    "# Извлечение нескольких изображений и их меток\n",
    "num_images_to_show = 5\n",
    "images_to_show = []\n",
    "labels_to_show = []\n",
    "\n",
    "for i in range(num_images_to_show):\n",
    "    image, label = dataset[i]\n",
    "    images_to_show.append(image)\n",
    "    labels_to_show.append(label)\n",
    "\n",
    "# Вывод изображений и их меток\n",
    "show_images(images_to_show, labels_to_show)"
   ]
  },
  {
   "cell_type": "code",
   "execution_count": 7,
   "id": "f5ae5260-654c-4be2-a4c5-97f9a7c95a15",
   "metadata": {
    "tags": []
   },
   "outputs": [],
   "source": [
    "# Загрузка и предобработка датасета MNIST\n",
    "train_dataset = datasets.MNIST(root='./data', train=True, transform=transforms.ToTensor(), download=True)\n",
    "test_dataset = datasets.MNIST(root='./data', train=False, transform=transforms.ToTensor())"
   ]
  },
  {
   "cell_type": "code",
   "execution_count": 8,
   "id": "c19fe908-6875-4fc5-95ea-7b6a3aa784b6",
   "metadata": {
    "tags": []
   },
   "outputs": [],
   "source": [
    "train_loader = torch.utils.data.DataLoader(dataset=train_dataset, batch_size=batch_size, shuffle=True)\n",
    "test_loader = torch.utils.data.DataLoader(dataset=test_dataset, batch_size=batch_size, shuffle=False)"
   ]
  },
  {
   "cell_type": "code",
   "execution_count": 9,
   "id": "28a25e0c-7859-4202-9e10-7aef83e060d2",
   "metadata": {
    "tags": []
   },
   "outputs": [],
   "source": [
    "# Определение однослойного перцептрона\n",
    "class SingleLayerPerceptron(nn.Module):\n",
    "    def __init__(self, input_size, num_classes):\n",
    "        super(SingleLayerPerceptron, self).__init__()\n",
    "        self.fc = nn.Linear(input_size, num_classes)\n",
    "\n",
    "    def forward(self, x):\n",
    "        out = self.fc(x)\n",
    "        return out"
   ]
  },
  {
   "cell_type": "code",
   "execution_count": 19,
   "id": "ac3ba312-d3c2-4f72-b199-90c9ada54eb8",
   "metadata": {
    "tags": []
   },
   "outputs": [],
   "source": [
    "hidden_size = 128\n",
    "# Определение модели\n",
    "class MLP(nn.Module):\n",
    "    def __init__(self, input_size, hidden_size, num_classes):\n",
    "        super(MLP, self).__init__()\n",
    "        self.fc1 = nn.Linear(input_size, hidden_size)\n",
    "        self.relu = nn.ReLU()\n",
    "        self.fc2 = nn.Linear(hidden_size, num_classes)\n",
    "    \n",
    "    def forward(self, x):\n",
    "        out = self.fc1(x)\n",
    "        out = self.relu(out)\n",
    "        out = self.fc2(out)\n",
    "        return out"
   ]
  },
  {
   "cell_type": "code",
   "execution_count": 20,
   "id": "84484f12-43ab-4f37-b1b2-9b86a9fc3efd",
   "metadata": {
    "tags": []
   },
   "outputs": [],
   "source": [
    "# Инициализация модели, функции потерь и оптимизатора\n",
    "model = MLP(input_size, hidden_size, num_classes)"
   ]
  },
  {
   "cell_type": "code",
   "execution_count": 11,
   "id": "40c0b816-7c4c-4c9f-853c-e92684087ec6",
   "metadata": {
    "tags": []
   },
   "outputs": [],
   "source": [
    "# Параметры модели\n",
    "input_size = 28 * 28  # Размер изображений 28x28\n",
    "num_classes = 10  # Цифры от 0 до 9"
   ]
  },
  {
   "cell_type": "code",
   "execution_count": 12,
   "id": "ef8b843d-cbad-447e-8c5a-f28da778ee19",
   "metadata": {
    "tags": []
   },
   "outputs": [],
   "source": [
    "model = SingleLayerPerceptron(input_size, num_classes)"
   ]
  },
  {
   "cell_type": "code",
   "execution_count": 21,
   "id": "288d691c-6a8d-4a2f-83e9-f468b9eebd13",
   "metadata": {
    "tags": []
   },
   "outputs": [],
   "source": [
    "# Определение функции потерь и оптимизатора\n",
    "criterion = nn.CrossEntropyLoss()\n",
    "optimizer = optim.SGD(model.parameters(), lr=learning_rate)"
   ]
  },
  {
   "cell_type": "code",
   "execution_count": 22,
   "id": "cce44ee7-f1d5-418e-802e-a35f4838dc38",
   "metadata": {
    "tags": []
   },
   "outputs": [
    {
     "name": "stderr",
     "output_type": "stream",
     "text": [
      "100%|████████████████████████████████████████| 938/938 [00:01<00:00, 488.84it/s]\n"
     ]
    },
    {
     "name": "stdout",
     "output_type": "stream",
     "text": [
      "Epoch [1/5], Loss: 0.4341\n"
     ]
    },
    {
     "name": "stderr",
     "output_type": "stream",
     "text": [
      "100%|████████████████████████████████████████| 938/938 [00:01<00:00, 508.22it/s]\n"
     ]
    },
    {
     "name": "stdout",
     "output_type": "stream",
     "text": [
      "Epoch [2/5], Loss: 0.4649\n"
     ]
    },
    {
     "name": "stderr",
     "output_type": "stream",
     "text": [
      "100%|████████████████████████████████████████| 938/938 [00:01<00:00, 508.45it/s]\n"
     ]
    },
    {
     "name": "stdout",
     "output_type": "stream",
     "text": [
      "Epoch [3/5], Loss: 0.3619\n"
     ]
    },
    {
     "name": "stderr",
     "output_type": "stream",
     "text": [
      "100%|████████████████████████████████████████| 938/938 [00:01<00:00, 493.24it/s]\n"
     ]
    },
    {
     "name": "stdout",
     "output_type": "stream",
     "text": [
      "Epoch [4/5], Loss: 0.2581\n"
     ]
    },
    {
     "name": "stderr",
     "output_type": "stream",
     "text": [
      "100%|████████████████████████████████████████| 938/938 [00:01<00:00, 495.17it/s]"
     ]
    },
    {
     "name": "stdout",
     "output_type": "stream",
     "text": [
      "Epoch [5/5], Loss: 0.3407\n"
     ]
    },
    {
     "name": "stderr",
     "output_type": "stream",
     "text": [
      "\n"
     ]
    }
   ],
   "source": [
    "# Обучение модели\n",
    "for epoch in range(num_epochs):\n",
    "    for images, labels in tqdm(train_loader):\n",
    "        # Преобразование изображений в вектор\n",
    "        images = images.view(-1, input_size)\n",
    "\n",
    "        # Прямой проход\n",
    "        outputs = model(images)\n",
    "        loss = criterion(outputs, labels)\n",
    "\n",
    "        # Обратный проход и оптимизация\n",
    "        optimizer.zero_grad()\n",
    "        loss.backward()\n",
    "        optimizer.step()\n",
    "\n",
    "    print(f'Epoch [{epoch+1}/{num_epochs}], Loss: {loss.item():.4f}')"
   ]
  },
  {
   "cell_type": "code",
   "execution_count": 23,
   "id": "a177401f-e218-4fa7-90a3-50cc7e8fdcd8",
   "metadata": {
    "tags": []
   },
   "outputs": [
    {
     "name": "stdout",
     "output_type": "stream",
     "text": [
      "Test Accuracy: 91.62%\n",
      "Train Accuracy: 91.09%\n"
     ]
    }
   ],
   "source": [
    "# Тестирование модели\n",
    "model.eval()\n",
    "with torch.no_grad():\n",
    "    correct = 0\n",
    "    total = 0\n",
    "    for images, labels in test_loader:\n",
    "        images = images.view(-1, input_size)\n",
    "        outputs = model(images)\n",
    "        _, predicted = torch.max(outputs.data, 1)\n",
    "        total += labels.size(0)\n",
    "        correct += (predicted == labels).sum().item()\n",
    "\n",
    "    print(f'Test Accuracy: {(100 * correct / total):.2f}%')\n",
    "    \n",
    "    for images, labels in train_loader:\n",
    "        images = images.view(-1, input_size)\n",
    "        outputs = model(images)\n",
    "        _, predicted = torch.max(outputs.data, 1)\n",
    "        total += labels.size(0)\n",
    "        correct += (predicted == labels).sum().item()\n",
    "\n",
    "    print(f'Train Accuracy: {(100 * correct / total):.2f}%')\n",
    "\n",
    "# Сохранение модели\n",
    "torch.save(model.state_dict(), 'slp_model.pth')"
   ]
  },
  {
   "cell_type": "code",
   "execution_count": null,
   "id": "521646d2-7b8f-45ab-8adf-35f399a6efbf",
   "metadata": {},
   "outputs": [],
   "source": []
  }
 ],
 "metadata": {
  "kernelspec": {
   "display_name": "Python 3 (ipykernel)",
   "language": "python",
   "name": "python3"
  },
  "language_info": {
   "codemirror_mode": {
    "name": "ipython",
    "version": 3
   },
   "file_extension": ".py",
   "mimetype": "text/x-python",
   "name": "python",
   "nbconvert_exporter": "python",
   "pygments_lexer": "ipython3",
   "version": "3.12.2"
  }
 },
 "nbformat": 4,
 "nbformat_minor": 5
}
