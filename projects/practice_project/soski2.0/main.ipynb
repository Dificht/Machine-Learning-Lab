{
 "cells": [
  {
   "cell_type": "code",
   "execution_count": null,
   "id": "06f845fb",
   "metadata": {},
   "outputs": [],
   "source": [
    "# Импорт библиотек\n",
    "import numpy as np\n",
    "import open3d as o3d\n",
    "import os\n",
    "import matplotlib.pyplot as plt\n",
    "import copy\n",
    "from sklearn.cluster import DBSCAN\n"
   ]
  },
  {
   "cell_type": "code",
   "execution_count": null,
   "id": "eeacebde",
   "metadata": {},
   "outputs": [],
   "source": [
    "def draw_registration_result(source, target, transformation):\n",
    "    \"\"\"\n",
    "    Визуализация метода ICP\n",
    "\n",
    "    Args:\n",
    "        source (numpy.ndarray[numpy.float64[N, 3]]): эталонное облако точек\n",
    "        target (numpy.ndarray[numpy.float64[N, 3]]): облако точек, зафиксированное камерой, \n",
    "                                                    с которым будем сопоставлять source\n",
    "        transformation (numpy.ndarray[numpy.float64[4, 4]]): трансформация одним из методов \n",
    "                                                    ICP из встроенной функции \n",
    "                                                    o3d.pipelines.registration.registration_icp()\n",
    "    \n",
    "    Returns:\n",
    "        None\n",
    "    \"\"\"\n",
    "    \n",
    "    source_temp = copy.deepcopy(source)\n",
    "    target_temp = copy.deepcopy(target)\n",
    "    source_temp.paint_uniform_color([1, 0.0706, 0])\n",
    "    source_temp.paint_uniform_color([0, 0.651, 0.929])\n",
    "    source_temp.transform(transformation)\n",
    "    o3d.visualization.draw_plotly([source_temp, target_temp])\n",
    "    "
   ]
  },
  {
   "cell_type": "code",
   "execution_count": null,
   "id": "f2fdb414",
   "metadata": {},
   "outputs": [],
   "source": [
    "def clusterization_labels(points_cloud, dbscan_eps, dbscan_min_samples):\n",
    "    \"\"\"\n",
    "    Получение для каждой точки в облаке своей метки класса (кластеризация облака точек)\n",
    "\n",
    "    Args:\n",
    "        points_cloud (numpy.ndarray[numpy.float64[N, 3]]): облако точек, которое нужно кластеризовать\n",
    "        dbscan_eps (float): максимальное расстояние между двумя точками, чтобы они считались соседними\n",
    "        dbscan_min_samples (int): минимальное число точек, расположенных рядом, \n",
    "                                чтобы они относились к определённому классу, иначе - шум\n",
    "    \n",
    "    Returns:\n",
    "        numpy.ndarray[numpy.float64[N, 3]]: номер класса для каждой точки облака точек\n",
    "    \"\"\"\n",
    "    \n",
    "    dbscan = DBSCAN(eps=dbscan_eps, min_samples=dbscan_min_samples)\n",
    "    return dbscan.fit_predict(points_cloud)  # labels\n"
   ]
  },
  {
   "cell_type": "code",
   "execution_count": null,
   "id": "e6a736e4",
   "metadata": {},
   "outputs": [],
   "source": [
    "def clusters_visualization(points_cloud, labels):\n",
    "    \"\"\"\n",
    "    Визуализация облака точек после кластеризации\n",
    "\n",
    "    Args:\n",
    "        points_cloud (numpy.ndarray[numpy.float64[N, 3]]): облако точек, которое будем визуализировать \n",
    "        labels (numpy.ndarray[numpy.float64[N, 3]]): номер класса для каждой точки облака точек\n",
    "    \n",
    "    Returns:\n",
    "        None\n",
    "    \"\"\"\n",
    "\n",
    "    unique_labels = np.unique(labels)  # Уникальные значения меток классов\n",
    "    colors = np.zeros((len(points_cloud), 3))\n",
    "    cmap = plt.get_cmap(\"jet\", len(unique_labels))\n",
    "    for idx, label in enumerate(unique_labels):\n",
    "        if label == -1:\n",
    "            colors[labels == label] = [0, 0, 0]  # Шумовые точки (label == -1) отображаем черным.\n",
    "        else:\n",
    "            colors[labels == label] = cmap(idx)[:3]  # Используем первые 3 компоненты (RGB)\n",
    "    \n",
    "    pcd = o3d.geometry.PointCloud()\n",
    "    pcd.points = o3d.utility.Vector3dVector(points_cloud)\n",
    "    pcd.colors = o3d.utility.Vector3dVector(colors)\n",
    "    o3d.visualization.draw_geometries([pcd])\n",
    "    "
   ]
  },
  {
   "cell_type": "code",
   "execution_count": null,
   "id": "35612ae7",
   "metadata": {},
   "outputs": [],
   "source": [
    "def clusterization_points_cloud(points_cloud, labels):\n",
    "    \"\"\"\n",
    "    Кластеризация облако точек\n",
    "\n",
    "    Args:\n",
    "        points_cloud (numpy.ndarray[numpy.float64[N, 3]]): облако точек, которое будем визуализировать \n",
    "        labels (numpy.ndarray[numpy.float64[N, 3]]): номер класса для каждой точки облака точек\n",
    "    \n",
    "    Returns:\n",
    "        clusters_no_noise (numpy.ndarray[numpy.float64[4, N, 3]]): кластеризованное облако точек, где M - количество кластеров\n",
    "    \"\"\"\n",
    "    \n",
    "    clusters_no_noise_list = [points_cloud[labels == label] for label in np.unique(labels) if label != -1]\n",
    "    clusters_no_noise = np.array(clusters_no_noise_list, dtype=object)\n",
    "\n",
    "    return clusters_no_noise\n"
   ]
  },
  {
   "cell_type": "code",
   "execution_count": null,
   "id": "af55068c",
   "metadata": {},
   "outputs": [],
   "source": [
    "def lowest_points(points_cloud):\n",
    "    \"\"\"\n",
    "    Поиск нижней точки для каждого кластера в кластеризованном облаке точек\n",
    "\n",
    "    Args:\n",
    "        points_cloud (numpy.ndarray[numpy.float64[4, N, 3]]): кластеризованное облако точек\n",
    "\n",
    "    Returns:\n",
    "        lowest_points (numpy.ndarray[numpy.float64[4, 3]]): координаты 4-х самых нижних точки кластеризованного облака точек\n",
    "    \"\"\"\n",
    "    \n",
    "    lowest_points = np.empty((4, 3))\n",
    "    for i, elem in enumerate(points_cloud):\n",
    "        max_y_index = np.argmax(elem[:, 1])\n",
    "        lowest_points[i] = elem[max_y_index]\n",
    "    \n",
    "    return lowest_points\n"
   ]
  },
  {
   "cell_type": "code",
   "execution_count": null,
   "id": "1f19bbf6",
   "metadata": {},
   "outputs": [],
   "source": [
    "def points2ply(file_name, points_cloud):\n",
    "    \"\"\"\n",
    "    Преобразование массива точек в формат .ply\n",
    "\n",
    "    Args:\n",
    "        file_name (str): имя файла, в который сохранится облако точек \n",
    "        points_cloud (numpy.ndarray[numpy.float64[N, 3]]): облако точек\n",
    "\n",
    "    Returns:\n",
    "        None\n",
    "    \"\"\"\n",
    "    \n",
    "    bubs_rotated = o3d.geometry.PointCloud()\n",
    "    bubs_rotated.points = o3d.utility.Vector3dVector(points_cloud)\n",
    "    o3d.io.write_point_cloud(file_name + \".ply\", bubs_rotated)\n",
    "    "
   ]
  },
  {
   "cell_type": "code",
   "execution_count": null,
   "id": "d3cb4257",
   "metadata": {},
   "outputs": [],
   "source": [
    "def rotate_Y_and_bias(points_cloud, radians, arr_bias):\n",
    "    \"\"\"\n",
    "    Смещение и поворот относительно оси Y облака точек. Используется для аугментации данных и проверки метода ICP\n",
    "\n",
    "    Args:\n",
    "        points_cloud (numpy.ndarray[numpy.float64[N, 3]]): облако точек\n",
    "        radians (float): поворот на угол в градусах\n",
    "        arr_bias (numpy.ndarray[numpy.float64[3]]): массив смещение по координатам X, Y, Z\n",
    "\n",
    "    Returns:\n",
    "        points_cloud_rotbias: изменённое облако точек\n",
    "    \"\"\"\n",
    "    rad = np.radians(radians)\n",
    "    \n",
    "    # Матрица поворота на угол rad\n",
    "    R = np.array([[np.cos(rad), 0, np.sin(rad)],\n",
    "                [0, 1, 0],\n",
    "                [-np.sin(rad), 0, np.cos(rad)]])\n",
    "\n",
    "    t = np.array(arr_bias)  # Матрица смещения\n",
    "    points_cloud_rotbias = (R @ points_cloud.T).T + t\n",
    "\n",
    "    return   points_cloud_rotbias\n"
   ]
  },
  {
   "cell_type": "code",
   "execution_count": null,
   "id": "6da9df39",
   "metadata": {},
   "outputs": [],
   "source": [
    "def classify_4_points(lowest_points):\n",
    "    \"\"\"\n",
    "    Определение положения точек в пространстве относительно друг друга с использованием медианы\n",
    "    Args:\n",
    "        lowest_points (numpy.ndarray[numpy.float64[4, 3]]): массив координат 4-х точек\n",
    "    Returns:\n",
    "        labels {index: class_id}: каждой координате точки присваивается класс/номер, где class_id:\n",
    "         1 — дальняя правая\n",
    "         2 — дальняя левая\n",
    "         3 — ближняя левая\n",
    "         4 — ближняя правая\n",
    "    \"\"\"\n",
    "    \n",
    "    # Проецируем в XZ-плоскость\n",
    "    xz = lowest_points[:, [0, 2]]  # shape=(4,2)\n",
    "    \n",
    "    # Границы между «ближними» и «дальними» / «левыми» и «правыми»\n",
    "    center_x, center_z = np.median(xz, axis=0)\n",
    "    \n",
    "    labels = {}\n",
    "    for i, (x, z) in enumerate(xz):\n",
    "        zone = 'near' if z <= center_z else 'far'\n",
    "        side = 'left' if x <= center_x else 'right'\n",
    "        \n",
    "        if   zone=='far'  and side=='right': class_id = 1\n",
    "        elif zone=='far'  and side=='left' : class_id = 2\n",
    "        elif zone=='near' and side=='left' : class_id = 3\n",
    "        elif zone=='near' and side=='right': class_id = 4\n",
    "        \n",
    "        labels[i] = class_id\n",
    "    \n",
    "    return labels\n"
   ]
  },
  {
   "cell_type": "code",
   "execution_count": null,
   "id": "e67bec9f",
   "metadata": {},
   "outputs": [],
   "source": [
    "project_path = os.getcwd()  # Получение пути к корневой папке проекта\n"
   ]
  },
  {
   "cell_type": "code",
   "execution_count": null,
   "id": "ec10bd38",
   "metadata": {},
   "outputs": [],
   "source": [
    "# Загрузка файлов .ply с облаком точек и сохранение его в переменную \n",
    "\n",
    "# source - облако точек, к которому будем сопоставлять каждый frame\n",
    "bubs_source_ply = o3d.io.read_point_cloud(project_path + \"\\\\data\\\\raw\\\\bubs_65.ply\")  \n",
    "\n",
    "# target - каждый раз новое облако точек, которое будем получать с камеры\n",
    "bubs_target_ply = o3d.io.read_point_cloud(project_path + \"\\\\data\\\\raw\\\\bubs_100.ply\") \n"
   ]
  },
  {
   "cell_type": "code",
   "execution_count": null,
   "id": "aa4ac274",
   "metadata": {},
   "outputs": [],
   "source": [
    "# Визуализация облака точек \n",
    "o3d.visualization.draw_plotly([bubs_source_ply])\n",
    "o3d.visualization.draw_plotly([bubs_target_ply])\n"
   ]
  },
  {
   "cell_type": "code",
   "execution_count": null,
   "id": "f61142f4",
   "metadata": {},
   "outputs": [],
   "source": [
    "# Преобразование обалака точек из формата .ply в массив\n",
    "bubs_source_points = np.array(bubs_source_ply.points)\n",
    "bubs_target_points = np.array(bubs_target_ply.points)\n"
   ]
  },
  {
   "cell_type": "code",
   "execution_count": null,
   "id": "b9ca51f6",
   "metadata": {},
   "outputs": [],
   "source": [
    "bubs_source_points_rotbiasY = rotate_Y_and_bias(bubs_source_points, -20, [0, 0, 0])\n",
    "points2ply(\"bubs_source_points_rotbiasY\", bubs_source_points_rotbiasY)\n",
    "bubs_source_ply_rotbiasY_main = o3d.io.read_point_cloud(\"bubs_source_points_rotbiasY.ply\")\n"
   ]
  },
  {
   "cell_type": "code",
   "execution_count": null,
   "id": "03ed1925",
   "metadata": {},
   "outputs": [],
   "source": [
    "o3d.visualization.draw_plotly([bubs_source_ply_rotbiasY_main])\n"
   ]
  },
  {
   "cell_type": "code",
   "execution_count": null,
   "id": "151e7066",
   "metadata": {},
   "outputs": [],
   "source": [
    "bubs_target_points_rotbiasY = rotate_Y_and_bias(bubs_target_points, 55, [-380, 20, 120])\n",
    "points2ply(\"bubs_target_points_rotbiasY\", bubs_target_points_rotbiasY)\n",
    "bubs_target_ply_rotbiasY_main = o3d.io.read_point_cloud(\"bubs_target_points_rotbiasY.ply\")\n"
   ]
  },
  {
   "cell_type": "code",
   "execution_count": null,
   "id": "a73e4aec",
   "metadata": {},
   "outputs": [],
   "source": [
    "o3d.visualization.draw_plotly([bubs_target_ply_rotbiasY_main])\n"
   ]
  },
  {
   "cell_type": "code",
   "execution_count": null,
   "id": "6c83f948",
   "metadata": {},
   "outputs": [],
   "source": [
    "source = bubs_source_ply_rotbiasY_main\n",
    "target = bubs_target_ply_rotbiasY_main\n",
    "\n",
    "treshhold = 100\n",
    "reg_p2p = o3d.pipelines.registration.registration_icp(\n",
    "    source, target, treshhold,\n",
    "    init=np.eye(4),\n",
    "    estimation_method=o3d.pipelines.registration.TransformationEstimationPointToPoint()\n",
    ")\n",
    "\n",
    "print(reg_p2p)\n",
    "print(reg_p2p.transformation)\n",
    "draw_registration_result(source, target, reg_p2p.transformation)\n"
   ]
  },
  {
   "cell_type": "code",
   "execution_count": null,
   "id": "0e56a87f",
   "metadata": {},
   "outputs": [],
   "source": [
    "bubs_target_points_rotbiasY_main = np.array(o3d.io.read_point_cloud(\"bubs_target_points_rotbiasY.ply\").points)\n"
   ]
  },
  {
   "cell_type": "code",
   "execution_count": null,
   "id": "8fdcf28b",
   "metadata": {},
   "outputs": [],
   "source": [
    "labels = clusterization_labels(bubs_target_points_rotbiasY_main, 5, 50)\n",
    "bubs_target_points_clusters = clusterization_points_cloud(bubs_target_points_rotbiasY_main, labels)\n",
    "bubs_target_lowest_points_rotbiasY_main_clusters = lowest_points(bubs_target_points_clusters)\n"
   ]
  },
  {
   "cell_type": "code",
   "execution_count": null,
   "id": "e23a96de",
   "metadata": {},
   "outputs": [],
   "source": [
    "clusters_visualization(bubs_target_points_rotbiasY_main, labels)"
   ]
  },
  {
   "cell_type": "code",
   "execution_count": null,
   "id": "c627ffad",
   "metadata": {},
   "outputs": [],
   "source": [
    "bubs_target_lowest_points_rotbiasY_main_clusters\n"
   ]
  },
  {
   "cell_type": "code",
   "execution_count": null,
   "id": "9344dbdc",
   "metadata": {},
   "outputs": [],
   "source": [
    "classify_4_points(bubs_target_lowest_points_rotbiasY_main_clusters)\n"
   ]
  },
  {
   "cell_type": "code",
   "execution_count": null,
   "id": "23ef0428",
   "metadata": {},
   "outputs": [],
   "source": [
    "fig = plt.figure(figsize=(10, 8))\n",
    "ax = fig.add_subplot(111, projection='3d')\n",
    "\n",
    "points_cloud = bubs_target_points_rotbiasY_main\n",
    "low_points = bubs_target_lowest_points_rotbiasY_main_clusters\n",
    "\n",
    "# Отображаем общее облако точек\n",
    "ax.scatter(points_cloud[:, 2], points_cloud[:, 0], points_cloud[:, 1],\n",
    "           s=2,  c='blue', label='Облако точек')\n",
    "\n",
    "# Отображаем lowest_points\n",
    "ax.scatter(low_points[:, 2], low_points[:, 0], low_points[:, 1],\n",
    "           s=200, c='red', marker='o', label='Минимальные точки')\n",
    "\n",
    "ax.legend()\n",
    "ax.set_title(\"Визуализация облака точек и минимальных точек\")\n",
    "plt.show()\n"
   ]
  }
 ],
 "metadata": {
  "kernelspec": {
   "display_name": "CV_env",
   "language": "python",
   "name": "python3"
  },
  "language_info": {
   "codemirror_mode": {
    "name": "ipython",
    "version": 3
   },
   "file_extension": ".py",
   "mimetype": "text/x-python",
   "name": "python",
   "nbconvert_exporter": "python",
   "pygments_lexer": "ipython3",
   "version": "3.12.11"
  }
 },
 "nbformat": 4,
 "nbformat_minor": 5
}
